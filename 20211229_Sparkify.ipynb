{
 "cells": [
  {
   "cell_type": "markdown",
   "metadata": {},
   "source": [
    "# Project Capstone: Sparkify Churn\n"
   ]
  },
  {
   "cell_type": "markdown",
   "metadata": {},
   "source": [
    "**Introduction:**<br>\n",
    "This project combines all of the knowledge gained during the *Data Science Nanodegree*. <br>\n",
    "In order to find the best way to predict churn rates for the imaginary music streaming service \"Sparkify\", we will be looking at the characterstics provided in the data subset (128 MB) provided for this project. The features that are most promising for predicting user churn will be used to build a machine learning model. The The idea is to identify potentially churning customers early on so they can be incentivised to stay.\n",
    "\n",
    "\n",
    "# <a class=\"anchor\" id=\"Table-of-Contents\">Table of Contents</a>\n",
    "1. [Data Loading and Cleaning](#Data-Loading-and-Cleaning)\n",
    "2. [Exploratory Data Analysis](#Exploratory-Data-Analysis)\n",
    "3. [Feature Engineering](#Feature-Engineering)\n",
    "4. [Preprocessing](#Preprocessing)\n",
    "5. [Modeling](#Modeling)\n",
    "6. [Conclusions](#Conclusions)"
   ]
  },
  {
   "cell_type": "code",
   "execution_count": 1,
   "metadata": {},
   "outputs": [],
   "source": [
    "# Importing libraries\n",
    "import re\n",
    "import numpy as np\n",
    "%matplotlib inline\n",
    "import pandas as pd\n",
    "import seaborn as sns\n",
    "sns.set()\n",
    "%matplotlib inline\n",
    "import matplotlib.pyplot as plt\n",
    "\n",
    "import time\n",
    "import datetime\n",
    "\n",
    "import pyspark\n",
    "from pyspark.sql import Row\n",
    "from pyspark import SparkConf\n",
    "from pyspark.sql.functions import *\n",
    "from pyspark.sql import SparkSession\n",
    "from pyspark.sql.functions import udf\n",
    "from pyspark.sql.window import Window\n",
    "from pyspark.sql import functions as F\n",
    "from pyspark.sql.types import StringType\n",
    "from pyspark.sql.types import IntegerType\n",
    "from pyspark.sql.functions import sum as Fsum\n",
    "from pyspark.sql.functions import isnan, count, when, col, desc, udf, col, sort_array, asc, avg\n",
    "\n",
    "from pyspark.ml import Pipeline\n",
    "from pyspark.ml.regression import LinearRegression\n",
    "from pyspark.ml.tuning import CrossValidator, ParamGridBuilder\n",
    "from pyspark.ml.evaluation import MulticlassClassificationEvaluator\n",
    "from pyspark.ml.feature import CountVectorizer, IDF, PCA, RegexTokenizer, VectorAssembler, Normalizer, StandardScaler\n",
    "from pyspark.ml.classification import LogisticRegression, RandomForestClassifier, GBTClassifier, LinearSVC, NaiveBayes"
   ]
  },
  {
   "cell_type": "code",
   "execution_count": 2,
   "metadata": {},
   "outputs": [],
   "source": [
    "# Creating a Spark session\n",
    "spark = SparkSession \\\n",
    "    .builder \\\n",
    "    .appName(\"Data Scientist Capstone - Sparkify\") \\\n",
    "    .getOrCreate()"
   ]
  },
  {
   "cell_type": "code",
   "execution_count": 3,
   "metadata": {},
   "outputs": [
    {
     "data": {
      "text/plain": [
       "[('spark.driver.port', '33301'),\n",
       " ('spark.rdd.compress', 'True'),\n",
       " ('spark.app.id', 'local-1640618026860'),\n",
       " ('spark.serializer.objectStreamReset', '100'),\n",
       " ('spark.master', 'local[*]'),\n",
       " ('spark.executor.id', 'driver'),\n",
       " ('spark.submit.deployMode', 'client'),\n",
       " ('spark.app.name', 'Data Scientist Capstone - Sparkify'),\n",
       " ('spark.driver.host', '4457930efda4'),\n",
       " ('spark.ui.showConsoleProgress', 'true')]"
      ]
     },
     "execution_count": 3,
     "metadata": {},
     "output_type": "execute_result"
    }
   ],
   "source": [
    "# Getting the current active SparkContext and its configuration settings\n",
    "spark.sparkContext.getConf().getAll()"
   ]
  },
  {
   "cell_type": "code",
   "execution_count": 4,
   "metadata": {},
   "outputs": [],
   "source": [
    "# Setting seaborn style\n",
    "sns.set_style(\"whitegrid\")"
   ]
  },
  {
   "cell_type": "markdown",
   "metadata": {},
   "source": [
    "# <a class=\"anchor\" id=\"Data-Loading-and-Cleaning\">Data Loading and Cleaning</a>\n",
    "<sub>*[(Back to Table of Contents)](#Table-of-Contents)*</sub>\n",
    "\n",
    "## Data Loading\n",
    "\n",
    "In this workspace, the mini-dataset file is used `mini_sparkify_event_data.json`. The datset is loaded and cleaned, and we are checking for invalid or missing data - for example, records without userids or sessionids."
   ]
  },
  {
   "cell_type": "code",
   "execution_count": 5,
   "metadata": {},
   "outputs": [],
   "source": [
    "# Loading data into dataframe\n",
    "df = spark.read.json(\"mini_sparkify_event_data.json\")"
   ]
  },
  {
   "cell_type": "code",
   "execution_count": 6,
   "metadata": {},
   "outputs": [
    {
     "name": "stdout",
     "output_type": "stream",
     "text": [
      "+--------------+---------+---------+------+-------------+--------+---------+-----+---------------+------+--------+-------------+---------+---------+------+-------------+--------------------+------+\n",
      "|        artist|     auth|firstName|gender|itemInSession|lastName|   length|level|       location|method|    page| registration|sessionId|     song|status|           ts|           userAgent|userId|\n",
      "+--------------+---------+---------+------+-------------+--------+---------+-----+---------------+------+--------+-------------+---------+---------+------+-------------+--------------------+------+\n",
      "|Martha Tilston|Logged In|    Colin|     M|           50| Freeman|277.89016| paid|Bakersfield, CA|   PUT|NextSong|1538173362000|       29|Rockpools|   200|1538352117000|Mozilla/5.0 (Wind...|    30|\n",
      "+--------------+---------+---------+------+-------------+--------+---------+-----+---------------+------+--------+-------------+---------+---------+------+-------------+--------------------+------+\n",
      "only showing top 1 row\n",
      "\n"
     ]
    }
   ],
   "source": [
    "# Let's take a quick look at the first row\n",
    "df.show(1)"
   ]
  },
  {
   "cell_type": "code",
   "execution_count": 7,
   "metadata": {},
   "outputs": [
    {
     "name": "stdout",
     "output_type": "stream",
     "text": [
      "root\n",
      " |-- artist: string (nullable = true)\n",
      " |-- auth: string (nullable = true)\n",
      " |-- firstName: string (nullable = true)\n",
      " |-- gender: string (nullable = true)\n",
      " |-- itemInSession: long (nullable = true)\n",
      " |-- lastName: string (nullable = true)\n",
      " |-- length: double (nullable = true)\n",
      " |-- level: string (nullable = true)\n",
      " |-- location: string (nullable = true)\n",
      " |-- method: string (nullable = true)\n",
      " |-- page: string (nullable = true)\n",
      " |-- registration: long (nullable = true)\n",
      " |-- sessionId: long (nullable = true)\n",
      " |-- song: string (nullable = true)\n",
      " |-- status: long (nullable = true)\n",
      " |-- ts: long (nullable = true)\n",
      " |-- userAgent: string (nullable = true)\n",
      " |-- userId: string (nullable = true)\n",
      "\n"
     ]
    }
   ],
   "source": [
    "# Printing schema\n",
    "df.printSchema()"
   ]
  },
  {
   "cell_type": "markdown",
   "metadata": {},
   "source": [
    "The datatypes look fine here.\n",
    "\n",
    "We will first be looking at the two IDs in the dataset: userId and sessionId"
   ]
  },
  {
   "cell_type": "code",
   "execution_count": 8,
   "metadata": {},
   "outputs": [
    {
     "name": "stdout",
     "output_type": "stream",
     "text": [
      "+-------+-----------------+\n",
      "|summary|           userId|\n",
      "+-------+-----------------+\n",
      "|  count|           286500|\n",
      "|   mean|59682.02278593872|\n",
      "| stddev|109091.9499991047|\n",
      "|    min|                 |\n",
      "|    max|               99|\n",
      "+-------+-----------------+\n",
      "\n"
     ]
    }
   ],
   "source": [
    "# Quick summary of the descriptives for userId\n",
    "df.describe('userId').show()"
   ]
  },
  {
   "cell_type": "code",
   "execution_count": 9,
   "metadata": {},
   "outputs": [
    {
     "name": "stdout",
     "output_type": "stream",
     "text": [
      "+-------+-----------------+\n",
      "|summary|        sessionId|\n",
      "+-------+-----------------+\n",
      "|  count|           286500|\n",
      "|   mean|1041.526554973822|\n",
      "| stddev|726.7762634630741|\n",
      "|    min|                1|\n",
      "|    max|             2474|\n",
      "+-------+-----------------+\n",
      "\n"
     ]
    }
   ],
   "source": [
    "# Quick summary of the descriptives for sessionId\n",
    "df.describe('sessionId').show()"
   ]
  },
  {
   "cell_type": "markdown",
   "metadata": {},
   "source": [
    "As we can see, there is a total of 286.500 rows in the dataset. We will keep that in mind as a reference after cleaning the data later."
   ]
  },
  {
   "cell_type": "code",
   "execution_count": 10,
   "metadata": {},
   "outputs": [
    {
     "data": {
      "text/plain": [
       "[Row(artist='Martha Tilston', auth='Logged In', firstName='Colin', gender='M', itemInSession=50, lastName='Freeman', length=277.89016, level='paid', location='Bakersfield, CA', method='PUT', page='NextSong', registration=1538173362000, sessionId=29, song='Rockpools', status=200, ts=1538352117000, userAgent='Mozilla/5.0 (Windows NT 6.1; WOW64; rv:31.0) Gecko/20100101 Firefox/31.0', userId='30'),\n",
       " Row(artist='Five Iron Frenzy', auth='Logged In', firstName='Micah', gender='M', itemInSession=79, lastName='Long', length=236.09424, level='free', location='Boston-Cambridge-Newton, MA-NH', method='PUT', page='NextSong', registration=1538331630000, sessionId=8, song='Canada', status=200, ts=1538352180000, userAgent='\"Mozilla/5.0 (Windows NT 6.1; WOW64) AppleWebKit/537.36 (KHTML, like Gecko) Chrome/37.0.2062.103 Safari/537.36\"', userId='9'),\n",
       " Row(artist='Adam Lambert', auth='Logged In', firstName='Colin', gender='M', itemInSession=51, lastName='Freeman', length=282.8273, level='paid', location='Bakersfield, CA', method='PUT', page='NextSong', registration=1538173362000, sessionId=29, song='Time For Miracles', status=200, ts=1538352394000, userAgent='Mozilla/5.0 (Windows NT 6.1; WOW64; rv:31.0) Gecko/20100101 Firefox/31.0', userId='30'),\n",
       " Row(artist='Enigma', auth='Logged In', firstName='Micah', gender='M', itemInSession=80, lastName='Long', length=262.71302, level='free', location='Boston-Cambridge-Newton, MA-NH', method='PUT', page='NextSong', registration=1538331630000, sessionId=8, song='Knocking On Forbidden Doors', status=200, ts=1538352416000, userAgent='\"Mozilla/5.0 (Windows NT 6.1; WOW64) AppleWebKit/537.36 (KHTML, like Gecko) Chrome/37.0.2062.103 Safari/537.36\"', userId='9'),\n",
       " Row(artist='Daft Punk', auth='Logged In', firstName='Colin', gender='M', itemInSession=52, lastName='Freeman', length=223.60771, level='paid', location='Bakersfield, CA', method='PUT', page='NextSong', registration=1538173362000, sessionId=29, song='Harder Better Faster Stronger', status=200, ts=1538352676000, userAgent='Mozilla/5.0 (Windows NT 6.1; WOW64; rv:31.0) Gecko/20100101 Firefox/31.0', userId='30')]"
      ]
     },
     "execution_count": 10,
     "metadata": {},
     "output_type": "execute_result"
    }
   ],
   "source": [
    "df.take(5)"
   ]
  },
  {
   "cell_type": "code",
   "execution_count": 11,
   "metadata": {},
   "outputs": [
    {
     "name": "stdout",
     "output_type": "stream",
     "text": [
      "Number of NaNs for userId:  0\n",
      "Number of NaNs for sessionId:  0\n"
     ]
    }
   ],
   "source": [
    "# Check the number of NaNs for userId and sessionId\n",
    "print('Number of NaNs for userId: ',df.filter(isnull(df['userId'])).count())\n",
    "print('Number of NaNs for sessionId: ',df.filter(isnull(df['sessionId'])).count())"
   ]
  },
  {
   "cell_type": "markdown",
   "metadata": {},
   "source": [
    "It seems like NaN values are not an issue here. Let's check further."
   ]
  },
  {
   "cell_type": "code",
   "execution_count": 12,
   "metadata": {},
   "outputs": [
    {
     "name": "stdout",
     "output_type": "stream",
     "text": [
      "+------+\n",
      "|userId|\n",
      "+------+\n",
      "|      |\n",
      "|    10|\n",
      "|   100|\n",
      "|100001|\n",
      "|100002|\n",
      "|100003|\n",
      "|100004|\n",
      "|100005|\n",
      "|100006|\n",
      "|100007|\n",
      "|100008|\n",
      "|100009|\n",
      "|100010|\n",
      "|100011|\n",
      "|100012|\n",
      "|100013|\n",
      "|100014|\n",
      "|100015|\n",
      "|100016|\n",
      "|100017|\n",
      "+------+\n",
      "only showing top 20 rows\n",
      "\n"
     ]
    }
   ],
   "source": [
    "# Looking at distinct userIds\n",
    "df.select('userId').distinct().sort(\"userId\").show()"
   ]
  },
  {
   "cell_type": "code",
   "execution_count": 13,
   "metadata": {},
   "outputs": [
    {
     "data": {
      "text/plain": [
       "8346"
      ]
     },
     "execution_count": 13,
     "metadata": {},
     "output_type": "execute_result"
    }
   ],
   "source": [
    "# Check to number of \"\" values\n",
    "empty_count = df.filter(df[\"userId\"] == \"\")\n",
    "empty_count.count()"
   ]
  },
  {
   "cell_type": "markdown",
   "metadata": {},
   "source": [
    "The above depiction shows us the distinct userIds. The first position seems to be empty. We will address this in the data cleaning."
   ]
  },
  {
   "cell_type": "code",
   "execution_count": 14,
   "metadata": {},
   "outputs": [
    {
     "name": "stdout",
     "output_type": "stream",
     "text": [
      "+---------+\n",
      "|sessionId|\n",
      "+---------+\n",
      "|        1|\n",
      "|        2|\n",
      "|        3|\n",
      "|        4|\n",
      "|        5|\n",
      "|        6|\n",
      "|        7|\n",
      "|        8|\n",
      "|        9|\n",
      "|       10|\n",
      "|       11|\n",
      "|       12|\n",
      "|       13|\n",
      "|       15|\n",
      "|       16|\n",
      "|       17|\n",
      "|       18|\n",
      "|       19|\n",
      "|       20|\n",
      "|       21|\n",
      "+---------+\n",
      "only showing top 20 rows\n",
      "\n"
     ]
    }
   ],
   "source": [
    "# Looking at distinct sessionIds\n",
    "df.select('sessionId').distinct().sort(\"sessionId\").show()"
   ]
  },
  {
   "cell_type": "markdown",
   "metadata": {},
   "source": [
    "This issue is not present for the sessionId."
   ]
  },
  {
   "cell_type": "markdown",
   "metadata": {},
   "source": [
    "## Data Cleaning\n",
    "\n",
    "We will address the issue with the empty values in the userIds here and correct the datatype for the sessionId.<br>Also, we will convert the pyspark dataframe to a pandas dataframe for clearer visualizations. "
   ]
  },
  {
   "cell_type": "code",
   "execution_count": 15,
   "metadata": {},
   "outputs": [],
   "source": [
    "# Let's address the issue with the \n",
    "cleaned_df = df.filter(df['userId']!='')"
   ]
  },
  {
   "cell_type": "code",
   "execution_count": 16,
   "metadata": {},
   "outputs": [
    {
     "name": "stdout",
     "output_type": "stream",
     "text": [
      "+------+\n",
      "|userId|\n",
      "+------+\n",
      "|    10|\n",
      "|   100|\n",
      "|100001|\n",
      "|100002|\n",
      "|100003|\n",
      "|100004|\n",
      "|100005|\n",
      "|100006|\n",
      "|100007|\n",
      "|100008|\n",
      "|100009|\n",
      "|100010|\n",
      "|100011|\n",
      "|100012|\n",
      "|100013|\n",
      "|100014|\n",
      "|100015|\n",
      "|100016|\n",
      "|100017|\n",
      "|100018|\n",
      "+------+\n",
      "only showing top 20 rows\n",
      "\n"
     ]
    }
   ],
   "source": [
    "cleaned_df.select('userId').distinct().sort(\"userId\").show()"
   ]
  },
  {
   "cell_type": "code",
   "execution_count": 17,
   "metadata": {},
   "outputs": [
    {
     "data": {
      "text/plain": [
       "278154"
      ]
     },
     "execution_count": 17,
     "metadata": {},
     "output_type": "execute_result"
    }
   ],
   "source": [
    "# Check the row count after dropping rows\n",
    "cleaned_df.count()"
   ]
  },
  {
   "cell_type": "code",
   "execution_count": 18,
   "metadata": {},
   "outputs": [
    {
     "data": {
      "text/plain": [
       "0"
      ]
     },
     "execution_count": 18,
     "metadata": {},
     "output_type": "execute_result"
    }
   ],
   "source": [
    "# The Result should be 0 if everything worked correctly\n",
    "Test = df.count() - cleaned_df.count() - empty_count.count()\n",
    "Test"
   ]
  },
  {
   "cell_type": "code",
   "execution_count": 19,
   "metadata": {},
   "outputs": [],
   "source": [
    "# Creating a pandas dataframe from the pyspark dataframe\n",
    "df_pd = cleaned_df.toPandas()"
   ]
  },
  {
   "cell_type": "code",
   "execution_count": 20,
   "metadata": {},
   "outputs": [
    {
     "data": {
      "text/plain": [
       "(278154, 18)"
      ]
     },
     "execution_count": 20,
     "metadata": {},
     "output_type": "execute_result"
    }
   ],
   "source": [
    "# Check shape\n",
    "df_pd.shape"
   ]
  },
  {
   "cell_type": "code",
   "execution_count": 21,
   "metadata": {},
   "outputs": [
    {
     "data": {
      "text/html": [
       "<div>\n",
       "<style scoped>\n",
       "    .dataframe tbody tr th:only-of-type {\n",
       "        vertical-align: middle;\n",
       "    }\n",
       "\n",
       "    .dataframe tbody tr th {\n",
       "        vertical-align: top;\n",
       "    }\n",
       "\n",
       "    .dataframe thead th {\n",
       "        text-align: right;\n",
       "    }\n",
       "</style>\n",
       "<table border=\"1\" class=\"dataframe\">\n",
       "  <thead>\n",
       "    <tr style=\"text-align: right;\">\n",
       "      <th></th>\n",
       "      <th>artist</th>\n",
       "      <th>auth</th>\n",
       "      <th>firstName</th>\n",
       "      <th>gender</th>\n",
       "      <th>itemInSession</th>\n",
       "      <th>lastName</th>\n",
       "      <th>length</th>\n",
       "      <th>level</th>\n",
       "      <th>location</th>\n",
       "      <th>method</th>\n",
       "      <th>page</th>\n",
       "      <th>registration</th>\n",
       "      <th>sessionId</th>\n",
       "      <th>song</th>\n",
       "      <th>status</th>\n",
       "      <th>ts</th>\n",
       "      <th>userAgent</th>\n",
       "      <th>userId</th>\n",
       "    </tr>\n",
       "  </thead>\n",
       "  <tbody>\n",
       "    <tr>\n",
       "      <th>0</th>\n",
       "      <td>Martha Tilston</td>\n",
       "      <td>Logged In</td>\n",
       "      <td>Colin</td>\n",
       "      <td>M</td>\n",
       "      <td>50</td>\n",
       "      <td>Freeman</td>\n",
       "      <td>277.89016</td>\n",
       "      <td>paid</td>\n",
       "      <td>Bakersfield, CA</td>\n",
       "      <td>PUT</td>\n",
       "      <td>NextSong</td>\n",
       "      <td>1538173362000</td>\n",
       "      <td>29</td>\n",
       "      <td>Rockpools</td>\n",
       "      <td>200</td>\n",
       "      <td>1538352117000</td>\n",
       "      <td>Mozilla/5.0 (Windows NT 6.1; WOW64; rv:31.0) G...</td>\n",
       "      <td>30</td>\n",
       "    </tr>\n",
       "    <tr>\n",
       "      <th>1</th>\n",
       "      <td>Five Iron Frenzy</td>\n",
       "      <td>Logged In</td>\n",
       "      <td>Micah</td>\n",
       "      <td>M</td>\n",
       "      <td>79</td>\n",
       "      <td>Long</td>\n",
       "      <td>236.09424</td>\n",
       "      <td>free</td>\n",
       "      <td>Boston-Cambridge-Newton, MA-NH</td>\n",
       "      <td>PUT</td>\n",
       "      <td>NextSong</td>\n",
       "      <td>1538331630000</td>\n",
       "      <td>8</td>\n",
       "      <td>Canada</td>\n",
       "      <td>200</td>\n",
       "      <td>1538352180000</td>\n",
       "      <td>\"Mozilla/5.0 (Windows NT 6.1; WOW64) AppleWebK...</td>\n",
       "      <td>9</td>\n",
       "    </tr>\n",
       "    <tr>\n",
       "      <th>2</th>\n",
       "      <td>Adam Lambert</td>\n",
       "      <td>Logged In</td>\n",
       "      <td>Colin</td>\n",
       "      <td>M</td>\n",
       "      <td>51</td>\n",
       "      <td>Freeman</td>\n",
       "      <td>282.82730</td>\n",
       "      <td>paid</td>\n",
       "      <td>Bakersfield, CA</td>\n",
       "      <td>PUT</td>\n",
       "      <td>NextSong</td>\n",
       "      <td>1538173362000</td>\n",
       "      <td>29</td>\n",
       "      <td>Time For Miracles</td>\n",
       "      <td>200</td>\n",
       "      <td>1538352394000</td>\n",
       "      <td>Mozilla/5.0 (Windows NT 6.1; WOW64; rv:31.0) G...</td>\n",
       "      <td>30</td>\n",
       "    </tr>\n",
       "    <tr>\n",
       "      <th>3</th>\n",
       "      <td>Enigma</td>\n",
       "      <td>Logged In</td>\n",
       "      <td>Micah</td>\n",
       "      <td>M</td>\n",
       "      <td>80</td>\n",
       "      <td>Long</td>\n",
       "      <td>262.71302</td>\n",
       "      <td>free</td>\n",
       "      <td>Boston-Cambridge-Newton, MA-NH</td>\n",
       "      <td>PUT</td>\n",
       "      <td>NextSong</td>\n",
       "      <td>1538331630000</td>\n",
       "      <td>8</td>\n",
       "      <td>Knocking On Forbidden Doors</td>\n",
       "      <td>200</td>\n",
       "      <td>1538352416000</td>\n",
       "      <td>\"Mozilla/5.0 (Windows NT 6.1; WOW64) AppleWebK...</td>\n",
       "      <td>9</td>\n",
       "    </tr>\n",
       "    <tr>\n",
       "      <th>4</th>\n",
       "      <td>Daft Punk</td>\n",
       "      <td>Logged In</td>\n",
       "      <td>Colin</td>\n",
       "      <td>M</td>\n",
       "      <td>52</td>\n",
       "      <td>Freeman</td>\n",
       "      <td>223.60771</td>\n",
       "      <td>paid</td>\n",
       "      <td>Bakersfield, CA</td>\n",
       "      <td>PUT</td>\n",
       "      <td>NextSong</td>\n",
       "      <td>1538173362000</td>\n",
       "      <td>29</td>\n",
       "      <td>Harder Better Faster Stronger</td>\n",
       "      <td>200</td>\n",
       "      <td>1538352676000</td>\n",
       "      <td>Mozilla/5.0 (Windows NT 6.1; WOW64; rv:31.0) G...</td>\n",
       "      <td>30</td>\n",
       "    </tr>\n",
       "  </tbody>\n",
       "</table>\n",
       "</div>"
      ],
      "text/plain": [
       "             artist       auth firstName gender  itemInSession lastName  \\\n",
       "0    Martha Tilston  Logged In     Colin      M             50  Freeman   \n",
       "1  Five Iron Frenzy  Logged In     Micah      M             79     Long   \n",
       "2      Adam Lambert  Logged In     Colin      M             51  Freeman   \n",
       "3            Enigma  Logged In     Micah      M             80     Long   \n",
       "4         Daft Punk  Logged In     Colin      M             52  Freeman   \n",
       "\n",
       "      length level                        location method      page  \\\n",
       "0  277.89016  paid                 Bakersfield, CA    PUT  NextSong   \n",
       "1  236.09424  free  Boston-Cambridge-Newton, MA-NH    PUT  NextSong   \n",
       "2  282.82730  paid                 Bakersfield, CA    PUT  NextSong   \n",
       "3  262.71302  free  Boston-Cambridge-Newton, MA-NH    PUT  NextSong   \n",
       "4  223.60771  paid                 Bakersfield, CA    PUT  NextSong   \n",
       "\n",
       "    registration  sessionId                           song  status  \\\n",
       "0  1538173362000         29                      Rockpools     200   \n",
       "1  1538331630000          8                         Canada     200   \n",
       "2  1538173362000         29              Time For Miracles     200   \n",
       "3  1538331630000          8    Knocking On Forbidden Doors     200   \n",
       "4  1538173362000         29  Harder Better Faster Stronger     200   \n",
       "\n",
       "              ts                                          userAgent userId  \n",
       "0  1538352117000  Mozilla/5.0 (Windows NT 6.1; WOW64; rv:31.0) G...     30  \n",
       "1  1538352180000  \"Mozilla/5.0 (Windows NT 6.1; WOW64) AppleWebK...      9  \n",
       "2  1538352394000  Mozilla/5.0 (Windows NT 6.1; WOW64; rv:31.0) G...     30  \n",
       "3  1538352416000  \"Mozilla/5.0 (Windows NT 6.1; WOW64) AppleWebK...      9  \n",
       "4  1538352676000  Mozilla/5.0 (Windows NT 6.1; WOW64; rv:31.0) G...     30  "
      ]
     },
     "execution_count": 21,
     "metadata": {},
     "output_type": "execute_result"
    }
   ],
   "source": [
    "# Taking a look at the df\n",
    "df_pd.head()"
   ]
  },
  {
   "cell_type": "markdown",
   "metadata": {},
   "source": [
    "# <a class=\"anchor\" id=\"Exploratory-Data-Analysis\">Exploratory Data Analysis (EDA)</a>\n",
    "<sub>*[(Back to Table of Contents)](#Table-of-Contents)*</sub>\n",
    "\n",
    "\n",
    "## Definition of Churn\n",
    "\n",
    "Creating a column `Churn` as the label for the model. The `Cancellation Confirmation` events are used to define churn, which happen for both paid and free users.\n",
    "\n",
    "\n",
    "## Explore Data\n",
    "EDA is used to compare user behavior for users that stayed and those who churned. Starting by exploring aggregates on these two groups of users, observing how much of a specific action they experienced per a certain time unit or number of songs played.\n",
    "\n",
    "### Step 1: Identify Churned Users and Classify w/ `1` for 'churned' and `0` for 'not churned' "
   ]
  },
  {
   "cell_type": "code",
   "execution_count": 22,
   "metadata": {},
   "outputs": [
    {
     "data": {
      "text/plain": [
       "array(['NextSong', 'Add to Playlist', 'Roll Advert', 'Thumbs Up',\n",
       "       'Downgrade', 'Thumbs Down', 'Home', 'Logout', 'Help', 'Upgrade',\n",
       "       'Add Friend', 'Settings', 'Submit Upgrade', 'About',\n",
       "       'Submit Downgrade', 'Error', 'Save Settings', 'Cancel',\n",
       "       'Cancellation Confirmation'], dtype=object)"
      ]
     },
     "execution_count": 22,
     "metadata": {},
     "output_type": "execute_result"
    }
   ],
   "source": [
    "# Creating a list of the unique pages\n",
    "pd.unique(df_pd['page'])"
   ]
  },
  {
   "cell_type": "markdown",
   "metadata": {},
   "source": [
    "Looking at the list, the `Cancellation Confirmation` page seems to make most sense as a churn identifier."
   ]
  },
  {
   "cell_type": "code",
   "execution_count": 23,
   "metadata": {},
   "outputs": [
    {
     "data": {
      "text/plain": [
       "52"
      ]
     },
     "execution_count": 23,
     "metadata": {},
     "output_type": "execute_result"
    }
   ],
   "source": [
    "# Number of users who churned\n",
    "page_filter = df_pd[df_pd['page'] == 'Cancellation Confirmation']\n",
    "page_filter['userId'].count()"
   ]
  },
  {
   "cell_type": "code",
   "execution_count": 24,
   "metadata": {},
   "outputs": [
    {
     "data": {
      "text/plain": [
       "artist           0\n",
       "auth             0\n",
       "firstName        0\n",
       "gender           0\n",
       "itemInSession    0\n",
       "lastName         0\n",
       "length           0\n",
       "level            0\n",
       "location         0\n",
       "method           0\n",
       "page             0\n",
       "registration     0\n",
       "sessionId        0\n",
       "song             0\n",
       "status           0\n",
       "ts               0\n",
       "userAgent        0\n",
       "userId           0\n",
       "dtype: int64"
      ]
     },
     "execution_count": 24,
     "metadata": {},
     "output_type": "execute_result"
    }
   ],
   "source": [
    "# Let's check if there are duplicate userIds in case a user has churned and subscribed and churned again\n",
    "page_filter[page_filter.duplicated('userId')].count()"
   ]
  },
  {
   "cell_type": "code",
   "execution_count": 25,
   "metadata": {},
   "outputs": [
    {
     "data": {
      "text/html": [
       "<div>\n",
       "<style scoped>\n",
       "    .dataframe tbody tr th:only-of-type {\n",
       "        vertical-align: middle;\n",
       "    }\n",
       "\n",
       "    .dataframe tbody tr th {\n",
       "        vertical-align: top;\n",
       "    }\n",
       "\n",
       "    .dataframe thead th {\n",
       "        text-align: right;\n",
       "    }\n",
       "</style>\n",
       "<table border=\"1\" class=\"dataframe\">\n",
       "  <thead>\n",
       "    <tr style=\"text-align: right;\">\n",
       "      <th></th>\n",
       "      <th>userId</th>\n",
       "      <th>page</th>\n",
       "    </tr>\n",
       "  </thead>\n",
       "  <tbody>\n",
       "    <tr>\n",
       "      <th>19592</th>\n",
       "      <td>18</td>\n",
       "      <td>Cancellation Confirmation</td>\n",
       "    </tr>\n",
       "    <tr>\n",
       "      <th>23072</th>\n",
       "      <td>32</td>\n",
       "      <td>Cancellation Confirmation</td>\n",
       "    </tr>\n",
       "    <tr>\n",
       "      <th>36649</th>\n",
       "      <td>125</td>\n",
       "      <td>Cancellation Confirmation</td>\n",
       "    </tr>\n",
       "    <tr>\n",
       "      <th>39109</th>\n",
       "      <td>105</td>\n",
       "      <td>Cancellation Confirmation</td>\n",
       "    </tr>\n",
       "    <tr>\n",
       "      <th>40728</th>\n",
       "      <td>17</td>\n",
       "      <td>Cancellation Confirmation</td>\n",
       "    </tr>\n",
       "    <tr>\n",
       "      <th>43251</th>\n",
       "      <td>143</td>\n",
       "      <td>Cancellation Confirmation</td>\n",
       "    </tr>\n",
       "    <tr>\n",
       "      <th>51134</th>\n",
       "      <td>101</td>\n",
       "      <td>Cancellation Confirmation</td>\n",
       "    </tr>\n",
       "    <tr>\n",
       "      <th>51579</th>\n",
       "      <td>129</td>\n",
       "      <td>Cancellation Confirmation</td>\n",
       "    </tr>\n",
       "    <tr>\n",
       "      <th>52831</th>\n",
       "      <td>121</td>\n",
       "      <td>Cancellation Confirmation</td>\n",
       "    </tr>\n",
       "    <tr>\n",
       "      <th>52967</th>\n",
       "      <td>51</td>\n",
       "      <td>Cancellation Confirmation</td>\n",
       "    </tr>\n",
       "  </tbody>\n",
       "</table>\n",
       "</div>"
      ],
      "text/plain": [
       "      userId                       page\n",
       "19592     18  Cancellation Confirmation\n",
       "23072     32  Cancellation Confirmation\n",
       "36649    125  Cancellation Confirmation\n",
       "39109    105  Cancellation Confirmation\n",
       "40728     17  Cancellation Confirmation\n",
       "43251    143  Cancellation Confirmation\n",
       "51134    101  Cancellation Confirmation\n",
       "51579    129  Cancellation Confirmation\n",
       "52831    121  Cancellation Confirmation\n",
       "52967     51  Cancellation Confirmation"
      ]
     },
     "execution_count": 25,
     "metadata": {},
     "output_type": "execute_result"
    }
   ],
   "source": [
    "# These are the IDs of the users who cancelled their subscription\n",
    "page_filter.filter(items=['userId', 'page']).head(10)"
   ]
  },
  {
   "cell_type": "markdown",
   "metadata": {},
   "source": [
    "In the above checks we have identified 52 users that have opened the `Cancellation Confirmation` page. Following our churn definition, these are the users that churned."
   ]
  },
  {
   "cell_type": "markdown",
   "metadata": {},
   "source": [
    "We will now add a column `churn` which will contain a `1` if the user churned and a `0` if not."
   ]
  },
  {
   "cell_type": "code",
   "execution_count": 26,
   "metadata": {},
   "outputs": [],
   "source": [
    "# Converting back to pyspark dataframe w/ cleaned data for transformations done with PySpark\n",
    "spark_df=spark.createDataFrame(df_pd)"
   ]
  },
  {
   "cell_type": "code",
   "execution_count": 27,
   "metadata": {},
   "outputs": [],
   "source": [
    "# Inserting '1' for users that churned and and 0 if not\n",
    "churn_event = udf(lambda x: 1 if x == 'Cancellation Confirmation' else 0, IntegerType())"
   ]
  },
  {
   "cell_type": "code",
   "execution_count": 28,
   "metadata": {},
   "outputs": [],
   "source": [
    "# Creating churn column\n",
    "spark_df = spark_df.withColumn('churn', churn_event('page'))"
   ]
  },
  {
   "cell_type": "code",
   "execution_count": 29,
   "metadata": {},
   "outputs": [
    {
     "name": "stdout",
     "output_type": "stream",
     "text": [
      "+------+-----+\n",
      "|userId|churn|\n",
      "+------+-----+\n",
      "|    18|    1|\n",
      "|    32|    1|\n",
      "|   125|    1|\n",
      "|   105|    1|\n",
      "|    17|    1|\n",
      "|   143|    1|\n",
      "|   101|    1|\n",
      "|   129|    1|\n",
      "|   121|    1|\n",
      "|    51|    1|\n",
      "|    87|    1|\n",
      "|   122|    1|\n",
      "|    12|    1|\n",
      "|    58|    1|\n",
      "|    73|    1|\n",
      "|     3|    1|\n",
      "|   106|    1|\n",
      "|   103|    1|\n",
      "|    28|    1|\n",
      "|    54|    1|\n",
      "+------+-----+\n",
      "only showing top 20 rows\n",
      "\n"
     ]
    }
   ],
   "source": [
    "# Check 1: Quick look at the columns with '1' in the churn column match the users filtered above\n",
    "spark_df.select([\"userId\", \"churn\"]).where(spark_df.churn == 1).show()"
   ]
  },
  {
   "cell_type": "code",
   "execution_count": 30,
   "metadata": {},
   "outputs": [
    {
     "name": "stdout",
     "output_type": "stream",
     "text": [
      "+------+-----+\n",
      "|userId|churn|\n",
      "+------+-----+\n",
      "|    30|    0|\n",
      "|     9|    0|\n",
      "|    30|    0|\n",
      "|     9|    0|\n",
      "|    30|    0|\n",
      "|     9|    0|\n",
      "|     9|    0|\n",
      "|    30|    0|\n",
      "|    30|    0|\n",
      "|    30|    0|\n",
      "|     9|    0|\n",
      "|     9|    0|\n",
      "|    30|    0|\n",
      "|     9|    0|\n",
      "|     9|    0|\n",
      "|    30|    0|\n",
      "|     9|    0|\n",
      "|    74|    0|\n",
      "|    30|    0|\n",
      "|     9|    0|\n",
      "+------+-----+\n",
      "only showing top 20 rows\n",
      "\n"
     ]
    }
   ],
   "source": [
    "# Check 2: Quick check if the column w/ churn '0' has been filled correctly\n",
    "spark_df.select([\"userId\", \"churn\"]).where(spark_df.churn == 0).show()"
   ]
  },
  {
   "cell_type": "markdown",
   "metadata": {},
   "source": [
    "The checks above show that the `churn` column has been added successfully.<br>Now we can sort our records for a userId in reverse time order and add up the values in the churn column."
   ]
  },
  {
   "cell_type": "code",
   "execution_count": 31,
   "metadata": {},
   "outputs": [],
   "source": [
    "# Sorting by user in reverse time order so churn values can be summed up in 'churn' column\n",
    "windowval = Window.partitionBy(\"userId\").orderBy(desc(\"ts\")).rangeBetween(Window.unboundedPreceding, 0)"
   ]
  },
  {
   "cell_type": "code",
   "execution_count": 32,
   "metadata": {},
   "outputs": [],
   "source": [
    "# Add the 'churn' column with sum of 1s over records\n",
    "spark_df = spark_df.withColumn(\"churn\", Fsum(\"churn\").over(windowval))"
   ]
  },
  {
   "cell_type": "markdown",
   "metadata": {},
   "source": [
    "### Step 2: Compare 'churned' (`1`) w/ 'not churned' (`0`) Users\n",
    "\n",
    "In the next step we will be comparing the users that churned with those who stayed with regards to several characteristics. Firstly, we will take a look at the distribution of the two in the dataset."
   ]
  },
  {
   "cell_type": "code",
   "execution_count": 33,
   "metadata": {},
   "outputs": [
    {
     "name": "stdout",
     "output_type": "stream",
     "text": [
      "+-----+-----+\n",
      "|churn|count|\n",
      "+-----+-----+\n",
      "|    0|  173|\n",
      "|    1|   52|\n",
      "+-----+-----+\n",
      "\n"
     ]
    }
   ],
   "source": [
    "# Counting users that churned '1' vs the users that stayed '0'\n",
    "churn_df = spark_df.select(['userId', 'churn']).dropDuplicates().groupBy('churn').count()\n",
    "churn_df.show()"
   ]
  },
  {
   "cell_type": "code",
   "execution_count": 34,
   "metadata": {},
   "outputs": [],
   "source": [
    "# Using pandas dataframe for visualizations\n",
    "churn_df_pd = churn_df.toPandas()"
   ]
  },
  {
   "cell_type": "code",
   "execution_count": 35,
   "metadata": {},
   "outputs": [
    {
     "data": {
      "text/plain": [
       "<matplotlib.axes._subplots.AxesSubplot at 0x7fdec24e4a20>"
      ]
     },
     "execution_count": 35,
     "metadata": {},
     "output_type": "execute_result"
    },
    {
     "data": {
      "image/png": "[encoded data removed]",
      "text/plain": [
       "<matplotlib.figure.Figure at 0x7fdec24e4278>"
      ]
     },
     "metadata": {},
     "output_type": "display_data"
    }
   ],
   "source": [
    "# Quick bar chart to compare \n",
    "churn_df_pd.plot.bar(x='churn', y='count', figsize=(8, 8))"
   ]
  },
  {
   "cell_type": "code",
   "execution_count": 36,
   "metadata": {},
   "outputs": [
    {
     "data": {
      "text/plain": [
       "<matplotlib.axes._subplots.AxesSubplot at 0x7fdec802ccc0>"
      ]
     },
     "execution_count": 36,
     "metadata": {},
     "output_type": "execute_result"
    },
    {
     "data": {
      "image/png": "[encoded data removed]",
      "text/plain": [
       "<matplotlib.figure.Figure at 0x7fdec9cf4d68>"
      ]
     },
     "metadata": {},
     "output_type": "display_data"
    }
   ],
   "source": [
    "# A pie chart fits this kind of data a bit better\n",
    "churn_df_pd.plot.pie(y='count', figsize=(8, 8), labels = ('Not Churned', 'Churned'), autopct='%1.1f%%')"
   ]
  },
  {
   "cell_type": "markdown",
   "metadata": {},
   "source": [
    "**Insights:**\n",
    "As we can see from the above graphs, there is quite an imbalance here.\n",
    "> 23 % churned<br>\n",
    "\n",
    "> 77 % did not churn"
   ]
  },
  {
   "cell_type": "markdown",
   "metadata": {},
   "source": [
    "### Step 3: Compare the `length` Variable for Churned vs. Stayed"
   ]
  },
  {
   "cell_type": "markdown",
   "metadata": {},
   "source": [
    "Let's first extract the length for the users that churned:"
   ]
  },
  {
   "cell_type": "code",
   "execution_count": 37,
   "metadata": {},
   "outputs": [],
   "source": [
    "# Filter for chruned customers\n",
    "lenght_df = spark_df.filter(spark_df.churn ==1)"
   ]
  },
  {
   "cell_type": "code",
   "execution_count": 38,
   "metadata": {},
   "outputs": [],
   "source": [
    "# Convert to pandas dataframe for viz\n",
    "df_pd = lenght_df.toPandas()"
   ]
  },
  {
   "cell_type": "code",
   "execution_count": 39,
   "metadata": {},
   "outputs": [],
   "source": [
    "# Drop the NaN values (inplace true, so operation inplace and return None)\n",
    "df_pd.length.dropna(inplace=True)"
   ]
  },
  {
   "cell_type": "markdown",
   "metadata": {},
   "source": [
    "Now we can extract the `length` for the users who stayed and compare the distributions:"
   ]
  },
  {
   "cell_type": "code",
   "execution_count": 40,
   "metadata": {},
   "outputs": [],
   "source": [
    "# Filter for customers that stayed\n",
    "lenght_df_stay = spark_df.filter(spark_df.churn ==0)"
   ]
  },
  {
   "cell_type": "code",
   "execution_count": 41,
   "metadata": {},
   "outputs": [],
   "source": [
    "# Convert to pandas dataframe for viz\n",
    "df_pd_stay = lenght_df_stay.toPandas()"
   ]
  },
  {
   "cell_type": "code",
   "execution_count": 42,
   "metadata": {},
   "outputs": [],
   "source": [
    "# Drop the NaN values (inplace true, so operation inplace and return None)\n",
    "df_pd_stay.length.dropna(inplace=True)"
   ]
  },
  {
   "cell_type": "code",
   "execution_count": 43,
   "metadata": {},
   "outputs": [
    {
     "data": {
      "image/png": "[encoded data removed]",
      "text/plain": [
       "<matplotlib.figure.Figure at 0x7fdecde6d1d0>"
      ]
     },
     "metadata": {},
     "output_type": "display_data"
    }
   ],
   "source": [
    "# Histogram\n",
    "bin_edges = np.arange (50, df_pd_stay['length'].max()+25, 25)\n",
    "plt.figure(figsize=(8,6))\n",
    "plt.hist(data = df_pd_stay, x = 'length', bins = bin_edges, label=\"users stayed length\")\n",
    "plt.hist(data = df_pd, x = 'length', bins = bin_edges, label=\"users churned length\")\n",
    "plt.xlim(0,1000)\n",
    "plt.xlabel('Length', size=14)\n",
    "plt.ylabel('Frequency', size=14);\n",
    "plt.title(\"Histogram Comparison - Length Variable for Churned vs. Stayed\")\n",
    "plt.legend(loc='upper right');"
   ]
  },
  {
   "cell_type": "markdown",
   "metadata": {},
   "source": [
    "**Insights:**<br>As we can see in the overlay of the histograms, the distributions are quite similar. This will most likely not be a good predictor for our churn rate. Let's take a look at another feature."
   ]
  },
  {
   "cell_type": "markdown",
   "metadata": {},
   "source": [
    "### Step 4: Compare `gender` for Churned vs. Stayed"
   ]
  },
  {
   "cell_type": "code",
   "execution_count": 44,
   "metadata": {},
   "outputs": [],
   "source": [
    "# Create dataframe for gender grouped by churn and gender\n",
    "gender_df = spark_df.select(['userId', 'churn', 'gender']).dropDuplicates().groupBy('gender', 'churn').count()"
   ]
  },
  {
   "cell_type": "code",
   "execution_count": 45,
   "metadata": {},
   "outputs": [
    {
     "name": "stdout",
     "output_type": "stream",
     "text": [
      "+------+-----+-----+\n",
      "|gender|churn|count|\n",
      "+------+-----+-----+\n",
      "|     F|    0|   84|\n",
      "|     F|    1|   20|\n",
      "|     M|    0|   89|\n",
      "|     M|    1|   32|\n",
      "+------+-----+-----+\n",
      "\n"
     ]
    }
   ],
   "source": [
    "# Show gender df \n",
    "gender_df.show()"
   ]
  },
  {
   "cell_type": "code",
   "execution_count": 46,
   "metadata": {},
   "outputs": [],
   "source": [
    "# Convert to pandas dataframe for viz\n",
    "gender_df = gender_df.toPandas()"
   ]
  },
  {
   "cell_type": "code",
   "execution_count": 47,
   "metadata": {},
   "outputs": [],
   "source": [
    "# Sorting\n",
    "gender_df = gender_df.sort_values('count', ascending = False)"
   ]
  },
  {
   "cell_type": "code",
   "execution_count": 48,
   "metadata": {},
   "outputs": [
    {
     "name": "stdout",
     "output_type": "stream",
     "text": [
      "Gender 'male' churn in %:\n"
     ]
    },
    {
     "data": {
      "text/plain": [
       "0.2644628099173554"
      ]
     },
     "execution_count": 48,
     "metadata": {},
     "output_type": "execute_result"
    }
   ],
   "source": [
    "# Male churn rate\n",
    "print('Gender \\'male\\' churn in %:')\n",
    "male_churn = 32/(89+32)\n",
    "male_churn"
   ]
  },
  {
   "cell_type": "code",
   "execution_count": 49,
   "metadata": {},
   "outputs": [
    {
     "name": "stdout",
     "output_type": "stream",
     "text": [
      "Gender 'female' churn in %:\n"
     ]
    },
    {
     "data": {
      "text/plain": [
       "0.19230769230769232"
      ]
     },
     "execution_count": 49,
     "metadata": {},
     "output_type": "execute_result"
    }
   ],
   "source": [
    "# Female churn rate\n",
    "print('Gender \\'female\\' churn in %:')\n",
    "fem_churn = 20/(20+84)\n",
    "fem_churn"
   ]
  },
  {
   "cell_type": "code",
   "execution_count": 50,
   "metadata": {},
   "outputs": [
    {
     "data": {
      "image/png": "[encoded data removed]",
      "text/plain": [
       "<matplotlib.figure.Figure at 0x7fded46ed2e8>"
      ]
     },
     "metadata": {},
     "output_type": "display_data"
    }
   ],
   "source": [
    "# Creating bar chart\n",
    "plt.figure(figsize = [8,8])\n",
    "ax = sns.barplot(data = gender_df, x = 'churn', y='count', hue = 'gender')\n",
    "ax.legend(loc = 1, ncol = 2, framealpha =1, title = 'gender')\n",
    "plt.title(\"Number of Users Churned by Gender\");"
   ]
  },
  {
   "cell_type": "markdown",
   "metadata": {},
   "source": [
    "**Insights:**<br>The above data indicates a higher tendency towards churning for male users."
   ]
  },
  {
   "cell_type": "markdown",
   "metadata": {},
   "source": [
    "### Step 5: Compare `level` for Churned vs. Stayed<br>\n",
    "`Level` refers to the two subscription models, where users w/ `paid` subscriptions do not see advertising while `free` subscription users do. Knowing that one might assume that free users are more likely to churn due to advertising. Let's see if we can verify that assumption."
   ]
  },
  {
   "cell_type": "code",
   "execution_count": 51,
   "metadata": {},
   "outputs": [],
   "source": [
    "# Creating the level df\n",
    "level_df = spark_df.select(['userId', 'churn', 'level']).dropDuplicates().groupBy('level','churn').count()"
   ]
  },
  {
   "cell_type": "code",
   "execution_count": 52,
   "metadata": {},
   "outputs": [
    {
     "name": "stdout",
     "output_type": "stream",
     "text": [
      "+-----+-----+-----+\n",
      "|level|churn|count|\n",
      "+-----+-----+-----+\n",
      "| free|    0|  149|\n",
      "| paid|    0|  129|\n",
      "| free|    1|   46|\n",
      "| paid|    1|   36|\n",
      "+-----+-----+-----+\n",
      "\n"
     ]
    }
   ],
   "source": [
    "# Quick glance at the data\n",
    "level_df.show()"
   ]
  },
  {
   "cell_type": "code",
   "execution_count": 53,
   "metadata": {},
   "outputs": [
    {
     "name": "stdout",
     "output_type": "stream",
     "text": [
      "Level 'free' churn in %:\n"
     ]
    },
    {
     "data": {
      "text/plain": [
       "0.2358974358974359"
      ]
     },
     "execution_count": 53,
     "metadata": {},
     "output_type": "execute_result"
    }
   ],
   "source": [
    "# Churn rate for users w/ free subscription\n",
    "print('Level \\'free\\' churn in %:')\n",
    "free_churn = 46/(46+149)\n",
    "free_churn"
   ]
  },
  {
   "cell_type": "code",
   "execution_count": 54,
   "metadata": {},
   "outputs": [
    {
     "name": "stdout",
     "output_type": "stream",
     "text": [
      "Level 'paid' churn in %:\n"
     ]
    },
    {
     "data": {
      "text/plain": [
       "0.21818181818181817"
      ]
     },
     "execution_count": 54,
     "metadata": {},
     "output_type": "execute_result"
    }
   ],
   "source": [
    "# Churn rate for users w/ paid subscription\n",
    "print('Level \\'paid\\' churn in %:')\n",
    "paid_churn = 36/(129+36)\n",
    "paid_churn"
   ]
  },
  {
   "cell_type": "code",
   "execution_count": 55,
   "metadata": {},
   "outputs": [],
   "source": [
    "# Convert to pandas dataframe for viz\n",
    "level_df = level_df.toPandas()"
   ]
  },
  {
   "cell_type": "code",
   "execution_count": 56,
   "metadata": {},
   "outputs": [
    {
     "data": {
      "image/png": "[encoded data removed]",
      "text/plain": [
       "<matplotlib.figure.Figure at 0x7fdec2ff2390>"
      ]
     },
     "metadata": {},
     "output_type": "display_data"
    }
   ],
   "source": [
    "# Plot the barplot using seaborn\n",
    "plt.figure(figsize = [8,8])\n",
    "ax = sns.barplot(data = level_df, x = 'churn', y='count', hue = 'level')\n",
    "ax.legend(loc = 1, ncol = 2, framealpha =1, title = 'level')\n",
    "plt.title(\"Number of Users That Churned by Level\");"
   ]
  },
  {
   "cell_type": "markdown",
   "metadata": {},
   "source": [
    "**Insights:**<br>More users w/ a `free` (~24%) subscription level have churned when compared to the `paid` (~22%) users. The difference is rather marginal, so it is difficult to say if our previous assumption was really right."
   ]
  },
  {
   "cell_type": "markdown",
   "metadata": {},
   "source": [
    "### Step 6: `Page` Visited by Users that Churned vs. Users That Stayed\n",
    "Next we can examine if there were different pages visited by users that churned compared to those that remained."
   ]
  },
  {
   "cell_type": "code",
   "execution_count": 57,
   "metadata": {},
   "outputs": [],
   "source": [
    "# Creating the dataframe for 'page'\n",
    "page_df = spark_df.select(['userId', 'churn', 'page']).groupBy('page','churn').count()"
   ]
  },
  {
   "cell_type": "code",
   "execution_count": 58,
   "metadata": {},
   "outputs": [
    {
     "name": "stdout",
     "output_type": "stream",
     "text": [
      "+--------------------+-----+-----+\n",
      "|                page|churn|count|\n",
      "+--------------------+-----+-----+\n",
      "|            Settings|    0| 1244|\n",
      "|         Thumbs Down|    1|  496|\n",
      "|           Thumbs Up|    1| 1859|\n",
      "|     Add to Playlist|    1| 1038|\n",
      "|               Error|    1|   32|\n",
      "|               About|    1|   56|\n",
      "|         Thumbs Down|    0| 2050|\n",
      "|         Roll Advert|    1|  967|\n",
      "|                Home|    0| 8410|\n",
      "|Cancellation Conf...|    1|   52|\n",
      "|               Error|    0|  220|\n",
      "|              Cancel|    1|   52|\n",
      "|            Settings|    1|  270|\n",
      "|          Add Friend|    1|  636|\n",
      "|             Upgrade|    0|  387|\n",
      "|           Downgrade|    1|  337|\n",
      "|              Logout|    1|  553|\n",
      "|    Submit Downgrade|    1|    9|\n",
      "|       Save Settings|    0|  252|\n",
      "|           Thumbs Up|    0|10692|\n",
      "+--------------------+-----+-----+\n",
      "only showing top 20 rows\n",
      "\n"
     ]
    }
   ],
   "source": [
    "page_df.show()"
   ]
  },
  {
   "cell_type": "code",
   "execution_count": 59,
   "metadata": {},
   "outputs": [],
   "source": [
    "# Convert to pandas dataframe for viz\n",
    "page_df = page_df.toPandas()"
   ]
  },
  {
   "cell_type": "code",
   "execution_count": 60,
   "metadata": {},
   "outputs": [],
   "source": [
    "# Create counts\n",
    "churn_count =  page_df[page_df['churn'] == 1].sum() \n",
    "stay_count =  page_df[page_df['churn'] == 0].sum()"
   ]
  },
  {
   "cell_type": "markdown",
   "metadata": {},
   "source": [
    "Calculate the churn rate and create as a column on df."
   ]
  },
  {
   "cell_type": "code",
   "execution_count": 61,
   "metadata": {},
   "outputs": [],
   "source": [
    "# Calculating rate of pages visited by churned users and those who stayed\n",
    "page_df['rate'] = np.where(\n",
    "    page_df['churn'] == 0, page_df['count']/stay_count['count'], np.where(\n",
    "    page_df['churn'] == 1, page_df['count']/churn_count['count'],page_df['count']/churn_count['count']))"
   ]
  },
  {
   "cell_type": "code",
   "execution_count": 62,
   "metadata": {},
   "outputs": [
    {
     "data": {
      "text/html": [
       "<div>\n",
       "<style scoped>\n",
       "    .dataframe tbody tr th:only-of-type {\n",
       "        vertical-align: middle;\n",
       "    }\n",
       "\n",
       "    .dataframe tbody tr th {\n",
       "        vertical-align: top;\n",
       "    }\n",
       "\n",
       "    .dataframe thead th {\n",
       "        text-align: right;\n",
       "    }\n",
       "</style>\n",
       "<table border=\"1\" class=\"dataframe\">\n",
       "  <thead>\n",
       "    <tr style=\"text-align: right;\">\n",
       "      <th></th>\n",
       "      <th>page</th>\n",
       "      <th>churn</th>\n",
       "      <th>count</th>\n",
       "      <th>rate</th>\n",
       "    </tr>\n",
       "  </thead>\n",
       "  <tbody>\n",
       "    <tr>\n",
       "      <th>0</th>\n",
       "      <td>Settings</td>\n",
       "      <td>0</td>\n",
       "      <td>1244</td>\n",
       "      <td>0.005332</td>\n",
       "    </tr>\n",
       "    <tr>\n",
       "      <th>1</th>\n",
       "      <td>Thumbs Down</td>\n",
       "      <td>1</td>\n",
       "      <td>496</td>\n",
       "      <td>0.011056</td>\n",
       "    </tr>\n",
       "    <tr>\n",
       "      <th>2</th>\n",
       "      <td>Thumbs Up</td>\n",
       "      <td>1</td>\n",
       "      <td>1859</td>\n",
       "      <td>0.041436</td>\n",
       "    </tr>\n",
       "    <tr>\n",
       "      <th>3</th>\n",
       "      <td>Add to Playlist</td>\n",
       "      <td>1</td>\n",
       "      <td>1038</td>\n",
       "      <td>0.023137</td>\n",
       "    </tr>\n",
       "    <tr>\n",
       "      <th>4</th>\n",
       "      <td>Error</td>\n",
       "      <td>1</td>\n",
       "      <td>32</td>\n",
       "      <td>0.000713</td>\n",
       "    </tr>\n",
       "    <tr>\n",
       "      <th>5</th>\n",
       "      <td>About</td>\n",
       "      <td>1</td>\n",
       "      <td>56</td>\n",
       "      <td>0.001248</td>\n",
       "    </tr>\n",
       "    <tr>\n",
       "      <th>6</th>\n",
       "      <td>Thumbs Down</td>\n",
       "      <td>0</td>\n",
       "      <td>2050</td>\n",
       "      <td>0.008787</td>\n",
       "    </tr>\n",
       "    <tr>\n",
       "      <th>7</th>\n",
       "      <td>Roll Advert</td>\n",
       "      <td>1</td>\n",
       "      <td>967</td>\n",
       "      <td>0.021554</td>\n",
       "    </tr>\n",
       "    <tr>\n",
       "      <th>8</th>\n",
       "      <td>Home</td>\n",
       "      <td>0</td>\n",
       "      <td>8410</td>\n",
       "      <td>0.036050</td>\n",
       "    </tr>\n",
       "    <tr>\n",
       "      <th>9</th>\n",
       "      <td>Cancellation Confirmation</td>\n",
       "      <td>1</td>\n",
       "      <td>52</td>\n",
       "      <td>0.001159</td>\n",
       "    </tr>\n",
       "    <tr>\n",
       "      <th>10</th>\n",
       "      <td>Error</td>\n",
       "      <td>0</td>\n",
       "      <td>220</td>\n",
       "      <td>0.000943</td>\n",
       "    </tr>\n",
       "    <tr>\n",
       "      <th>11</th>\n",
       "      <td>Cancel</td>\n",
       "      <td>1</td>\n",
       "      <td>52</td>\n",
       "      <td>0.001159</td>\n",
       "    </tr>\n",
       "    <tr>\n",
       "      <th>12</th>\n",
       "      <td>Settings</td>\n",
       "      <td>1</td>\n",
       "      <td>270</td>\n",
       "      <td>0.006018</td>\n",
       "    </tr>\n",
       "    <tr>\n",
       "      <th>13</th>\n",
       "      <td>Add Friend</td>\n",
       "      <td>1</td>\n",
       "      <td>636</td>\n",
       "      <td>0.014176</td>\n",
       "    </tr>\n",
       "    <tr>\n",
       "      <th>14</th>\n",
       "      <td>Upgrade</td>\n",
       "      <td>0</td>\n",
       "      <td>387</td>\n",
       "      <td>0.001659</td>\n",
       "    </tr>\n",
       "    <tr>\n",
       "      <th>15</th>\n",
       "      <td>Downgrade</td>\n",
       "      <td>1</td>\n",
       "      <td>337</td>\n",
       "      <td>0.007512</td>\n",
       "    </tr>\n",
       "    <tr>\n",
       "      <th>16</th>\n",
       "      <td>Logout</td>\n",
       "      <td>1</td>\n",
       "      <td>553</td>\n",
       "      <td>0.012326</td>\n",
       "    </tr>\n",
       "    <tr>\n",
       "      <th>17</th>\n",
       "      <td>Submit Downgrade</td>\n",
       "      <td>1</td>\n",
       "      <td>9</td>\n",
       "      <td>0.000201</td>\n",
       "    </tr>\n",
       "    <tr>\n",
       "      <th>18</th>\n",
       "      <td>Save Settings</td>\n",
       "      <td>0</td>\n",
       "      <td>252</td>\n",
       "      <td>0.001080</td>\n",
       "    </tr>\n",
       "    <tr>\n",
       "      <th>19</th>\n",
       "      <td>Thumbs Up</td>\n",
       "      <td>0</td>\n",
       "      <td>10692</td>\n",
       "      <td>0.045831</td>\n",
       "    </tr>\n",
       "    <tr>\n",
       "      <th>20</th>\n",
       "      <td>Downgrade</td>\n",
       "      <td>0</td>\n",
       "      <td>1718</td>\n",
       "      <td>0.007364</td>\n",
       "    </tr>\n",
       "    <tr>\n",
       "      <th>21</th>\n",
       "      <td>Submit Upgrade</td>\n",
       "      <td>0</td>\n",
       "      <td>127</td>\n",
       "      <td>0.000544</td>\n",
       "    </tr>\n",
       "    <tr>\n",
       "      <th>22</th>\n",
       "      <td>Roll Advert</td>\n",
       "      <td>0</td>\n",
       "      <td>2966</td>\n",
       "      <td>0.012714</td>\n",
       "    </tr>\n",
       "    <tr>\n",
       "      <th>23</th>\n",
       "      <td>Submit Downgrade</td>\n",
       "      <td>0</td>\n",
       "      <td>54</td>\n",
       "      <td>0.000231</td>\n",
       "    </tr>\n",
       "    <tr>\n",
       "      <th>24</th>\n",
       "      <td>Logout</td>\n",
       "      <td>0</td>\n",
       "      <td>2673</td>\n",
       "      <td>0.011458</td>\n",
       "    </tr>\n",
       "    <tr>\n",
       "      <th>25</th>\n",
       "      <td>Home</td>\n",
       "      <td>1</td>\n",
       "      <td>1672</td>\n",
       "      <td>0.037268</td>\n",
       "    </tr>\n",
       "    <tr>\n",
       "      <th>26</th>\n",
       "      <td>Add Friend</td>\n",
       "      <td>0</td>\n",
       "      <td>3641</td>\n",
       "      <td>0.015607</td>\n",
       "    </tr>\n",
       "    <tr>\n",
       "      <th>27</th>\n",
       "      <td>Upgrade</td>\n",
       "      <td>1</td>\n",
       "      <td>112</td>\n",
       "      <td>0.002496</td>\n",
       "    </tr>\n",
       "    <tr>\n",
       "      <th>28</th>\n",
       "      <td>Submit Upgrade</td>\n",
       "      <td>1</td>\n",
       "      <td>32</td>\n",
       "      <td>0.000713</td>\n",
       "    </tr>\n",
       "    <tr>\n",
       "      <th>29</th>\n",
       "      <td>About</td>\n",
       "      <td>0</td>\n",
       "      <td>439</td>\n",
       "      <td>0.001882</td>\n",
       "    </tr>\n",
       "    <tr>\n",
       "      <th>30</th>\n",
       "      <td>Add to Playlist</td>\n",
       "      <td>0</td>\n",
       "      <td>5488</td>\n",
       "      <td>0.023524</td>\n",
       "    </tr>\n",
       "    <tr>\n",
       "      <th>31</th>\n",
       "      <td>Save Settings</td>\n",
       "      <td>1</td>\n",
       "      <td>58</td>\n",
       "      <td>0.001293</td>\n",
       "    </tr>\n",
       "    <tr>\n",
       "      <th>32</th>\n",
       "      <td>Help</td>\n",
       "      <td>1</td>\n",
       "      <td>239</td>\n",
       "      <td>0.005327</td>\n",
       "    </tr>\n",
       "    <tr>\n",
       "      <th>33</th>\n",
       "      <td>NextSong</td>\n",
       "      <td>1</td>\n",
       "      <td>36394</td>\n",
       "      <td>0.811207</td>\n",
       "    </tr>\n",
       "    <tr>\n",
       "      <th>34</th>\n",
       "      <td>NextSong</td>\n",
       "      <td>0</td>\n",
       "      <td>191714</td>\n",
       "      <td>0.821784</td>\n",
       "    </tr>\n",
       "    <tr>\n",
       "      <th>35</th>\n",
       "      <td>Help</td>\n",
       "      <td>0</td>\n",
       "      <td>1215</td>\n",
       "      <td>0.005208</td>\n",
       "    </tr>\n",
       "  </tbody>\n",
       "</table>\n",
       "</div>"
      ],
      "text/plain": [
       "                         page  churn   count      rate\n",
       "0                    Settings      0    1244  0.005332\n",
       "1                 Thumbs Down      1     496  0.011056\n",
       "2                   Thumbs Up      1    1859  0.041436\n",
       "3             Add to Playlist      1    1038  0.023137\n",
       "4                       Error      1      32  0.000713\n",
       "5                       About      1      56  0.001248\n",
       "6                 Thumbs Down      0    2050  0.008787\n",
       "7                 Roll Advert      1     967  0.021554\n",
       "8                        Home      0    8410  0.036050\n",
       "9   Cancellation Confirmation      1      52  0.001159\n",
       "10                      Error      0     220  0.000943\n",
       "11                     Cancel      1      52  0.001159\n",
       "12                   Settings      1     270  0.006018\n",
       "13                 Add Friend      1     636  0.014176\n",
       "14                    Upgrade      0     387  0.001659\n",
       "15                  Downgrade      1     337  0.007512\n",
       "16                     Logout      1     553  0.012326\n",
       "17           Submit Downgrade      1       9  0.000201\n",
       "18              Save Settings      0     252  0.001080\n",
       "19                  Thumbs Up      0   10692  0.045831\n",
       "20                  Downgrade      0    1718  0.007364\n",
       "21             Submit Upgrade      0     127  0.000544\n",
       "22                Roll Advert      0    2966  0.012714\n",
       "23           Submit Downgrade      0      54  0.000231\n",
       "24                     Logout      0    2673  0.011458\n",
       "25                       Home      1    1672  0.037268\n",
       "26                 Add Friend      0    3641  0.015607\n",
       "27                    Upgrade      1     112  0.002496\n",
       "28             Submit Upgrade      1      32  0.000713\n",
       "29                      About      0     439  0.001882\n",
       "30            Add to Playlist      0    5488  0.023524\n",
       "31              Save Settings      1      58  0.001293\n",
       "32                       Help      1     239  0.005327\n",
       "33                   NextSong      1   36394  0.811207\n",
       "34                   NextSong      0  191714  0.821784\n",
       "35                       Help      0    1215  0.005208"
      ]
     },
     "execution_count": 62,
     "metadata": {},
     "output_type": "execute_result"
    }
   ],
   "source": [
    "page_df.head(40)"
   ]
  },
  {
   "cell_type": "code",
   "execution_count": 63,
   "metadata": {},
   "outputs": [
    {
     "data": {
      "image/png": "[encoded data removed]",
      "text/plain": [
       "<matplotlib.figure.Figure at 0x7fdecf418d68>"
      ]
     },
     "metadata": {},
     "output_type": "display_data"
    }
   ],
   "source": [
    "# Visualize results\n",
    "plt.figure(figsize=[30,30])\n",
    "sns.barplot(data = page_df, x = 'rate', y = 'page', hue = 'churn')\n",
    "plt.title('Rate of Pages Navigated to by Users that Churned vs. Users that Stayed');"
   ]
  },
  {
   "cell_type": "markdown",
   "metadata": {},
   "source": [
    "**Insights:**<br>\n",
    "The most popular action for both user groups was the `NextSong` action.  \n",
    "Churned users used the `thumbs down` action more while the `thumbs up` action was clicked more often by the loyal users. Those who were more likely to stay also added friends and songs to playlists."
   ]
  },
  {
   "cell_type": "markdown",
   "metadata": {},
   "source": [
    "### Step 7: Calculation of Songs per Hour\n",
    "We will now calculate the number of songs listened to by churn and non churn users per hour."
   ]
  },
  {
   "cell_type": "code",
   "execution_count": 64,
   "metadata": {},
   "outputs": [],
   "source": [
    "# Getting hour from timestamp\n",
    "get_hour = udf(lambda x: datetime.datetime.fromtimestamp(x / 1000.0). hour)"
   ]
  },
  {
   "cell_type": "code",
   "execution_count": 65,
   "metadata": {},
   "outputs": [],
   "source": [
    "# Create an hour column\n",
    "spark_df = spark_df.withColumn(\"hour\", get_hour(spark_df.ts))"
   ]
  },
  {
   "cell_type": "code",
   "execution_count": 66,
   "metadata": {},
   "outputs": [
    {
     "data": {
      "text/plain": [
       "Row(artist=None, auth='Logged In', firstName='Darianna', gender='F', itemInSession=34, lastName='Carpenter', length=nan, level='free', location='Bridgeport-Stamford-Norwalk, CT', method='PUT', page='Logout', registration=1538016340000, sessionId=187, song=None, status=307, ts=1542823952000, userAgent='\"Mozilla/5.0 (iPhone; CPU iPhone OS 7_1_2 like Mac OS X) AppleWebKit/537.51.2 (KHTML, like Gecko) Version/7.0 Mobile/11D257 Safari/9537.53\"', userId='100010', churn=0, hour='18')"
      ]
     },
     "execution_count": 66,
     "metadata": {},
     "output_type": "execute_result"
    }
   ],
   "source": [
    "spark_df.head()"
   ]
  },
  {
   "cell_type": "markdown",
   "metadata": {},
   "source": [
    "We can first focus on those who did not churn."
   ]
  },
  {
   "cell_type": "code",
   "execution_count": 67,
   "metadata": {},
   "outputs": [],
   "source": [
    "# Creation of df with those who did not churn and which counts at what time user goes to next song page\n",
    "songs_per_hour_stay = spark_df.filter((spark_df.page == \"NextSong\") & (spark_df.churn == 0)).groupby(spark_df.hour).count().orderBy(spark_df.hour.cast(\"float\"))"
   ]
  },
  {
   "cell_type": "code",
   "execution_count": 68,
   "metadata": {},
   "outputs": [
    {
     "name": "stdout",
     "output_type": "stream",
     "text": [
      "+----+-----+\n",
      "|hour|count|\n",
      "+----+-----+\n",
      "|   0| 7527|\n",
      "|   1| 7035|\n",
      "|   2| 7014|\n",
      "|   3| 7063|\n",
      "|   4| 6914|\n",
      "|   5| 6960|\n",
      "|   6| 6836|\n",
      "|   7| 6873|\n",
      "|   8| 7023|\n",
      "|   9| 7268|\n",
      "|  10| 7502|\n",
      "|  11| 7440|\n",
      "|  12| 7918|\n",
      "|  13| 8073|\n",
      "|  14| 8792|\n",
      "|  15| 9462|\n",
      "|  16| 9721|\n",
      "|  17| 9464|\n",
      "|  18| 9146|\n",
      "|  19| 9112|\n",
      "|  20| 9107|\n",
      "|  21| 8853|\n",
      "|  22| 8526|\n",
      "|  23| 8085|\n",
      "+----+-----+\n",
      "\n"
     ]
    }
   ],
   "source": [
    "songs_per_hour_stay.show(24)"
   ]
  },
  {
   "cell_type": "code",
   "execution_count": 69,
   "metadata": {},
   "outputs": [],
   "source": [
    "# Convert to pandas and then to numeric\n",
    "songs_per_hour_stay_pd = songs_per_hour_stay.toPandas()\n",
    "songs_per_hour_stay_pd.hour = pd.to_numeric(songs_per_hour_stay_pd.hour)"
   ]
  },
  {
   "cell_type": "code",
   "execution_count": 70,
   "metadata": {},
   "outputs": [
    {
     "data": {
      "text/html": [
       "<div>\n",
       "<style scoped>\n",
       "    .dataframe tbody tr th:only-of-type {\n",
       "        vertical-align: middle;\n",
       "    }\n",
       "\n",
       "    .dataframe tbody tr th {\n",
       "        vertical-align: top;\n",
       "    }\n",
       "\n",
       "    .dataframe thead th {\n",
       "        text-align: right;\n",
       "    }\n",
       "</style>\n",
       "<table border=\"1\" class=\"dataframe\">\n",
       "  <thead>\n",
       "    <tr style=\"text-align: right;\">\n",
       "      <th></th>\n",
       "      <th>hour</th>\n",
       "      <th>count</th>\n",
       "    </tr>\n",
       "  </thead>\n",
       "  <tbody>\n",
       "    <tr>\n",
       "      <th>0</th>\n",
       "      <td>0</td>\n",
       "      <td>7527</td>\n",
       "    </tr>\n",
       "    <tr>\n",
       "      <th>1</th>\n",
       "      <td>1</td>\n",
       "      <td>7035</td>\n",
       "    </tr>\n",
       "    <tr>\n",
       "      <th>2</th>\n",
       "      <td>2</td>\n",
       "      <td>7014</td>\n",
       "    </tr>\n",
       "    <tr>\n",
       "      <th>3</th>\n",
       "      <td>3</td>\n",
       "      <td>7063</td>\n",
       "    </tr>\n",
       "    <tr>\n",
       "      <th>4</th>\n",
       "      <td>4</td>\n",
       "      <td>6914</td>\n",
       "    </tr>\n",
       "    <tr>\n",
       "      <th>5</th>\n",
       "      <td>5</td>\n",
       "      <td>6960</td>\n",
       "    </tr>\n",
       "    <tr>\n",
       "      <th>6</th>\n",
       "      <td>6</td>\n",
       "      <td>6836</td>\n",
       "    </tr>\n",
       "    <tr>\n",
       "      <th>7</th>\n",
       "      <td>7</td>\n",
       "      <td>6873</td>\n",
       "    </tr>\n",
       "    <tr>\n",
       "      <th>8</th>\n",
       "      <td>8</td>\n",
       "      <td>7023</td>\n",
       "    </tr>\n",
       "    <tr>\n",
       "      <th>9</th>\n",
       "      <td>9</td>\n",
       "      <td>7268</td>\n",
       "    </tr>\n",
       "    <tr>\n",
       "      <th>10</th>\n",
       "      <td>10</td>\n",
       "      <td>7502</td>\n",
       "    </tr>\n",
       "    <tr>\n",
       "      <th>11</th>\n",
       "      <td>11</td>\n",
       "      <td>7440</td>\n",
       "    </tr>\n",
       "    <tr>\n",
       "      <th>12</th>\n",
       "      <td>12</td>\n",
       "      <td>7918</td>\n",
       "    </tr>\n",
       "    <tr>\n",
       "      <th>13</th>\n",
       "      <td>13</td>\n",
       "      <td>8073</td>\n",
       "    </tr>\n",
       "    <tr>\n",
       "      <th>14</th>\n",
       "      <td>14</td>\n",
       "      <td>8792</td>\n",
       "    </tr>\n",
       "    <tr>\n",
       "      <th>15</th>\n",
       "      <td>15</td>\n",
       "      <td>9462</td>\n",
       "    </tr>\n",
       "    <tr>\n",
       "      <th>16</th>\n",
       "      <td>16</td>\n",
       "      <td>9721</td>\n",
       "    </tr>\n",
       "    <tr>\n",
       "      <th>17</th>\n",
       "      <td>17</td>\n",
       "      <td>9464</td>\n",
       "    </tr>\n",
       "    <tr>\n",
       "      <th>18</th>\n",
       "      <td>18</td>\n",
       "      <td>9146</td>\n",
       "    </tr>\n",
       "    <tr>\n",
       "      <th>19</th>\n",
       "      <td>19</td>\n",
       "      <td>9112</td>\n",
       "    </tr>\n",
       "    <tr>\n",
       "      <th>20</th>\n",
       "      <td>20</td>\n",
       "      <td>9107</td>\n",
       "    </tr>\n",
       "    <tr>\n",
       "      <th>21</th>\n",
       "      <td>21</td>\n",
       "      <td>8853</td>\n",
       "    </tr>\n",
       "    <tr>\n",
       "      <th>22</th>\n",
       "      <td>22</td>\n",
       "      <td>8526</td>\n",
       "    </tr>\n",
       "    <tr>\n",
       "      <th>23</th>\n",
       "      <td>23</td>\n",
       "      <td>8085</td>\n",
       "    </tr>\n",
       "  </tbody>\n",
       "</table>\n",
       "</div>"
      ],
      "text/plain": [
       "    hour  count\n",
       "0      0   7527\n",
       "1      1   7035\n",
       "2      2   7014\n",
       "3      3   7063\n",
       "4      4   6914\n",
       "5      5   6960\n",
       "6      6   6836\n",
       "7      7   6873\n",
       "8      8   7023\n",
       "9      9   7268\n",
       "10    10   7502\n",
       "11    11   7440\n",
       "12    12   7918\n",
       "13    13   8073\n",
       "14    14   8792\n",
       "15    15   9462\n",
       "16    16   9721\n",
       "17    17   9464\n",
       "18    18   9146\n",
       "19    19   9112\n",
       "20    20   9107\n",
       "21    21   8853\n",
       "22    22   8526\n",
       "23    23   8085"
      ]
     },
     "execution_count": 70,
     "metadata": {},
     "output_type": "execute_result"
    }
   ],
   "source": [
    "# Show results\n",
    "songs_per_hour_stay_pd"
   ]
  },
  {
   "cell_type": "code",
   "execution_count": 71,
   "metadata": {},
   "outputs": [
    {
     "data": {
      "image/png": "[encoded data removed]",
      "text/plain": [
       "<matplotlib.figure.Figure at 0x7fdecd4f0898>"
      ]
     },
     "metadata": {},
     "output_type": "display_data"
    }
   ],
   "source": [
    "# Visualize data points\n",
    "plt.figure(figsize = [8,8])\n",
    "plt.bar(songs_per_hour_stay_pd[\"hour\"], songs_per_hour_stay_pd[\"count\"])\n",
    "plt.xlim(-1, 24)\n",
    "plt.xlabel(\"Hour\")\n",
    "plt.ylabel(\"Songs played\")\n",
    "plt.title(\"Number of Songs Played per Hour ('Loyal' Users)\");"
   ]
  },
  {
   "cell_type": "markdown",
   "metadata": {},
   "source": [
    "**Insights:**<br>\n",
    "There is a peak at 3pm and a higher higher plateau between 6pm and 8pm. Will will look at churned users with the same process."
   ]
  },
  {
   "cell_type": "code",
   "execution_count": 72,
   "metadata": {},
   "outputs": [],
   "source": [
    "# Create df w/ churned users\n",
    "songs_per_hour_churned = spark_df.filter((spark_df.page == \"NextSong\") & (spark_df.churn == 1)).groupby(spark_df.hour).count().orderBy(spark_df.hour.cast(\"float\"))"
   ]
  },
  {
   "cell_type": "code",
   "execution_count": 73,
   "metadata": {},
   "outputs": [
    {
     "name": "stdout",
     "output_type": "stream",
     "text": [
      "+----+-----+\n",
      "|hour|count|\n",
      "+----+-----+\n",
      "|   0| 1535|\n",
      "|   1| 1353|\n",
      "|   2| 1322|\n",
      "|   3| 1292|\n",
      "|   4| 1233|\n",
      "|   5| 1218|\n",
      "|   6| 1218|\n",
      "|   7| 1218|\n",
      "|   8| 1230|\n",
      "|   9| 1230|\n",
      "|  10| 1380|\n",
      "|  11| 1390|\n",
      "|  12| 1408|\n",
      "|  13| 1571|\n",
      "|  14| 1702|\n",
      "|  15| 1892|\n",
      "|  16| 1915|\n",
      "|  17| 1996|\n",
      "|  18| 1978|\n",
      "|  19| 1818|\n",
      "+----+-----+\n",
      "only showing top 20 rows\n",
      "\n"
     ]
    }
   ],
   "source": [
    "songs_per_hour_churned.show()"
   ]
  },
  {
   "cell_type": "code",
   "execution_count": 74,
   "metadata": {},
   "outputs": [],
   "source": [
    "# Convert to pandas and to numeric\n",
    "songs_per_hour_churned = songs_per_hour_churned.toPandas()\n",
    "songs_per_hour_churned.hour = pd.to_numeric(songs_per_hour_churned.hour)"
   ]
  },
  {
   "cell_type": "code",
   "execution_count": 75,
   "metadata": {},
   "outputs": [
    {
     "data": {
      "image/png": "[encoded data removed]",
      "text/plain": [
       "<matplotlib.figure.Figure at 0x7fdec402acf8>"
      ]
     },
     "metadata": {},
     "output_type": "display_data"
    }
   ],
   "source": [
    "# Plot distribution of songs per hour for churned\n",
    "plt.figure(figsize = [8,8])\n",
    "plt.bar(songs_per_hour_stay_pd[\"hour\"], songs_per_hour_stay_pd[\"count\"], label=\"users stayed\")\n",
    "plt.bar(songs_per_hour_churned[\"hour\"], songs_per_hour_churned[\"count\"], label=\"users churned\")\n",
    "plt.xlim(-1, 24)\n",
    "plt.xlabel(\"Hour\")\n",
    "plt.ylabel(\"Songs played\")\n",
    "plt.legend(loc='upper right');\n",
    "plt.title(\"Number of Songs Played per Hour (Churned Users)\");"
   ]
  },
  {
   "cell_type": "markdown",
   "metadata": {},
   "source": [
    "**Insights**<br>\n",
    "Putting the distributions over another we can see that it is fairly similar for both groups. However, it is very apparent that churned users have listened to less songs overall."
   ]
  },
  {
   "cell_type": "markdown",
   "metadata": {},
   "source": [
    "### Step 8: Calculating Songs Per Session for Churned vs. Loyal\n",
    "We can compare the groups by looking at the average values:"
   ]
  },
  {
   "cell_type": "code",
   "execution_count": 76,
   "metadata": {},
   "outputs": [],
   "source": [
    "# First, let's get the count by the 'next song' \n",
    "songs_df = spark_df.filter(spark_df.page == \"NextSong\").dropDuplicates().groupBy('sessionId','churn').count()"
   ]
  },
  {
   "cell_type": "code",
   "execution_count": 77,
   "metadata": {},
   "outputs": [
    {
     "name": "stdout",
     "output_type": "stream",
     "text": [
      "+-----+-----------------+\n",
      "|churn|       avg(count)|\n",
      "+-----+-----------------+\n",
      "|    0| 93.3369036027264|\n",
      "|    1|79.81140350877193|\n",
      "+-----+-----------------+\n",
      "\n"
     ]
    }
   ],
   "source": [
    "# Now let's look at the average for churn\n",
    "songs_df.groupby('churn').agg({\"count\":\"avg\"}).show()"
   ]
  },
  {
   "cell_type": "code",
   "execution_count": 78,
   "metadata": {},
   "outputs": [],
   "source": [
    "songs_df = songs_df.groupby('churn').agg({\"count\":\"avg\"})"
   ]
  },
  {
   "cell_type": "code",
   "execution_count": 79,
   "metadata": {},
   "outputs": [],
   "source": [
    "# Convert this to pandas df\n",
    "songs_df = songs_df.toPandas()"
   ]
  },
  {
   "cell_type": "code",
   "execution_count": 80,
   "metadata": {},
   "outputs": [
    {
     "data": {
      "image/png": "[encoded data removed]",
      "text/plain": [
       "<matplotlib.figure.Figure at 0x7fdec4f3d390>"
      ]
     },
     "metadata": {},
     "output_type": "display_data"
    }
   ],
   "source": [
    "# Plot\n",
    "plt.figure(figsize = [8,6])\n",
    "ax = sns.barplot(data = songs_df, x = 'churn', y='avg(count)')\n",
    "plt.title(\"Average Number of Songs Played per Session Churned Users vs. Loyal Users\")\n",
    "plt.ylabel(\"Average Number of Songs Played Per Session\");\n"
   ]
  },
  {
   "cell_type": "markdown",
   "metadata": {},
   "source": [
    "**Insights:**<br>\n",
    "Per session the churned users were listening to fewer songs than those who stayed."
   ]
  },
  {
   "cell_type": "markdown",
   "metadata": {},
   "source": [
    "### Step 9: Number of Unique Artists Listened to\n",
    "A similar chart for the number of artists that users listened to is created here."
   ]
  },
  {
   "cell_type": "code",
   "execution_count": 81,
   "metadata": {},
   "outputs": [],
   "source": [
    "# Let's get the count first\n",
    "artists_df = spark_df.select(\"artist\", \"userId\", \"churn\").dropDuplicates().groupby(\"userId\", \"churn\").count()"
   ]
  },
  {
   "cell_type": "code",
   "execution_count": 82,
   "metadata": {},
   "outputs": [
    {
     "name": "stdout",
     "output_type": "stream",
     "text": [
      "+-----+-----------------+\n",
      "|churn|       avg(count)|\n",
      "+-----+-----------------+\n",
      "|    0|750.7803468208092|\n",
      "|    1|519.6923076923077|\n",
      "+-----+-----------------+\n",
      "\n"
     ]
    }
   ],
   "source": [
    "# Get averages\n",
    "artists_df.groupby('churn').agg({\"count\":\"avg\"}).show()"
   ]
  },
  {
   "cell_type": "code",
   "execution_count": 83,
   "metadata": {},
   "outputs": [],
   "source": [
    "# Convert to pandas\n",
    "artists_df = artists_df.toPandas()"
   ]
  },
  {
   "cell_type": "code",
   "execution_count": 84,
   "metadata": {},
   "outputs": [
    {
     "data": {
      "text/plain": [
       "Text(0.5,1,'Number of Artists Listened to on Sparkify')"
      ]
     },
     "execution_count": 84,
     "metadata": {},
     "output_type": "execute_result"
    },
    {
     "data": {
      "image/png": "[encoded data removed]",
      "text/plain": [
       "<matplotlib.figure.Figure at 0x7fdec3daf828>"
      ]
     },
     "metadata": {},
     "output_type": "display_data"
    }
   ],
   "source": [
    "# Visualizing boxplot to see the max and medians for both groups\n",
    "plt.figure(figsize = [8,8])\n",
    "ax = sns.boxplot(data = artists_df, x = 'churn', y='count')\n",
    "plt.title(\"Number of Artists Listened to on Sparkify\")"
   ]
  },
  {
   "cell_type": "markdown",
   "metadata": {},
   "source": [
    "**Insights:**<br>\n",
    "The loyal users listened to a greater variety of artists compared to the churned users."
   ]
  },
  {
   "cell_type": "markdown",
   "metadata": {},
   "source": [
    "### Step 10: Location\n",
    "Let's see if the location had any influence on churn."
   ]
  },
  {
   "cell_type": "code",
   "execution_count": 85,
   "metadata": {},
   "outputs": [
    {
     "name": "stdout",
     "output_type": "stream",
     "text": [
      "+--------------------+-----+\n",
      "|            location|count|\n",
      "+--------------------+-----+\n",
      "|     Gainesville, FL| 1229|\n",
      "|Atlantic City-Ham...| 2176|\n",
      "|Deltona-Daytona B...|   73|\n",
      "|San Diego-Carlsba...|  754|\n",
      "|Cleveland-Elyria, OH| 1392|\n",
      "|Kingsport-Bristol...| 1863|\n",
      "|New Haven-Milford...| 4007|\n",
      "|Birmingham-Hoover...|   75|\n",
      "|  Corpus Christi, TX|   11|\n",
      "|         Dubuque, IA|  651|\n",
      "|Las Vegas-Henders...| 2042|\n",
      "|Indianapolis-Carm...|  970|\n",
      "|Seattle-Tacoma-Be...|  246|\n",
      "|          Albany, OR|   23|\n",
      "|   Winston-Salem, NC|  819|\n",
      "|     Bakersfield, CA| 1775|\n",
      "|Los Angeles-Long ...|30131|\n",
      "|Minneapolis-St. P...| 2134|\n",
      "|San Francisco-Oak...| 2647|\n",
      "|Phoenix-Mesa-Scot...| 4846|\n",
      "+--------------------+-----+\n",
      "only showing top 20 rows\n",
      "\n"
     ]
    }
   ],
   "source": [
    "# Count by location\n",
    "spark_df.select(\"location\", \"userId\", \"churn\").groupby(\"location\").count().show()"
   ]
  },
  {
   "cell_type": "markdown",
   "metadata": {},
   "source": [
    "The data is a bit too granular, let's focus on the US state rather than the city. We can take the last two letters to get the state information."
   ]
  },
  {
   "cell_type": "code",
   "execution_count": 86,
   "metadata": {},
   "outputs": [],
   "source": [
    "# Extract last two characters\n",
    "get_state = udf(lambda x: x[-2:])"
   ]
  },
  {
   "cell_type": "code",
   "execution_count": 87,
   "metadata": {},
   "outputs": [],
   "source": [
    "# Creating the state column\n",
    "state_df = spark_df.withColumn(\"state\", get_state(spark_df.location))"
   ]
  },
  {
   "cell_type": "code",
   "execution_count": 88,
   "metadata": {},
   "outputs": [
    {
     "data": {
      "text/plain": [
       "[Row(artist=None, auth='Logged In', firstName='Darianna', gender='F', itemInSession=34, lastName='Carpenter', length=nan, level='free', location='Bridgeport-Stamford-Norwalk, CT', method='PUT', page='Logout', registration=1538016340000, sessionId=187, song=None, status=307, ts=1542823952000, userAgent='\"Mozilla/5.0 (iPhone; CPU iPhone OS 7_1_2 like Mac OS X) AppleWebKit/537.51.2 (KHTML, like Gecko) Version/7.0 Mobile/11D257 Safari/9537.53\"', userId='100010', churn=0, hour='18', state='CT'),\n",
       " Row(artist='Lily Allen', auth='Logged In', firstName='Darianna', gender='F', itemInSession=33, lastName='Carpenter', length=185.25995, level='free', location='Bridgeport-Stamford-Norwalk, CT', method='PUT', page='NextSong', registration=1538016340000, sessionId=187, song='22', status=200, ts=1542823951000, userAgent='\"Mozilla/5.0 (iPhone; CPU iPhone OS 7_1_2 like Mac OS X) AppleWebKit/537.51.2 (KHTML, like Gecko) Version/7.0 Mobile/11D257 Safari/9537.53\"', userId='100010', churn=0, hour='18', state='CT')]"
      ]
     },
     "execution_count": 88,
     "metadata": {},
     "output_type": "execute_result"
    }
   ],
   "source": [
    "# Quick check\n",
    "state_df.take(2)"
   ]
  },
  {
   "cell_type": "code",
   "execution_count": 89,
   "metadata": {},
   "outputs": [],
   "source": [
    "# Drop duplicates\n",
    "state_df = state_df.select(\"state\", \"userId\", \"churn\").dropDuplicates().groupby(\"state\", \"churn\").count()"
   ]
  },
  {
   "cell_type": "code",
   "execution_count": 90,
   "metadata": {},
   "outputs": [],
   "source": [
    "# Convert to pandas \n",
    "state_df = state_df.toPandas()"
   ]
  },
  {
   "cell_type": "code",
   "execution_count": 91,
   "metadata": {},
   "outputs": [
    {
     "data": {
      "image/png": "[encoded data removed]",
      "text/plain": [
       "<matplotlib.figure.Figure at 0x7fdec1b38b38>"
      ]
     },
     "metadata": {},
     "output_type": "display_data"
    }
   ],
   "source": [
    "# Plot \n",
    "plt.figure(figsize=[20,16])\n",
    "sns.barplot(data = state_df, x = 'count', y = 'state', hue = 'churn')\n",
    "plt.title('Count Churned Users vs. Loyal by US State');"
   ]
  },
  {
   "cell_type": "markdown",
   "metadata": {},
   "source": [
    "**Insights:**<br>\n",
    "`CA` had the most users. In `MI`, `KI` and `OH` more users churned than there were users that stayed.\n",
    "Engineering a useful feature for this might be difficult. We will focus on another column for now - `operating systems and browsers`."
   ]
  },
  {
   "cell_type": "markdown",
   "metadata": {},
   "source": [
    "### Step 11: UserAgent: Operating System and Browsers\n",
    "We will now extract the OS to see the effect on churn."
   ]
  },
  {
   "cell_type": "code",
   "execution_count": 92,
   "metadata": {},
   "outputs": [],
   "source": [
    "opsys_df = spark_df.select(\"userId\", \"userAgent\", \"churn\").dropDuplicates(['userId'])"
   ]
  },
  {
   "cell_type": "code",
   "execution_count": 93,
   "metadata": {},
   "outputs": [
    {
     "name": "stdout",
     "output_type": "stream",
     "text": [
      "+------+--------------------+-----+\n",
      "|userId|           userAgent|churn|\n",
      "+------+--------------------+-----+\n",
      "|100010|\"Mozilla/5.0 (iPh...|    0|\n",
      "|200002|\"Mozilla/5.0 (iPh...|    0|\n",
      "|   125|\"Mozilla/5.0 (Mac...|    1|\n",
      "|   124|\"Mozilla/5.0 (Mac...|    0|\n",
      "|    51|\"Mozilla/5.0 (Win...|    1|\n",
      "|     7|Mozilla/5.0 (Wind...|    0|\n",
      "|    15|\"Mozilla/5.0 (Win...|    0|\n",
      "|    54|Mozilla/5.0 (Wind...|    1|\n",
      "|   155|\"Mozilla/5.0 (Win...|    0|\n",
      "|100014|\"Mozilla/5.0 (Win...|    1|\n",
      "|   132|\"Mozilla/5.0 (Mac...|    0|\n",
      "|   154|\"Mozilla/5.0 (Win...|    0|\n",
      "|   101|Mozilla/5.0 (Wind...|    1|\n",
      "|    11|Mozilla/5.0 (Wind...|    0|\n",
      "|   138|\"Mozilla/5.0 (iPa...|    0|\n",
      "|300017|\"Mozilla/5.0 (Mac...|    0|\n",
      "|100021|\"Mozilla/5.0 (Mac...|    1|\n",
      "|    29|\"Mozilla/5.0 (Mac...|    1|\n",
      "|    69|\"Mozilla/5.0 (Win...|    0|\n",
      "|   112|Mozilla/5.0 (Wind...|    0|\n",
      "+------+--------------------+-----+\n",
      "only showing top 20 rows\n",
      "\n"
     ]
    }
   ],
   "source": [
    "opsys_df.show()"
   ]
  },
  {
   "cell_type": "code",
   "execution_count": 94,
   "metadata": {},
   "outputs": [],
   "source": [
    "# Converting to pandas\n",
    "opsys_df = opsys_df.toPandas()"
   ]
  },
  {
   "cell_type": "code",
   "execution_count": 95,
   "metadata": {},
   "outputs": [
    {
     "data": {
      "text/plain": [
       "\"Mozilla/5.0 (Windows NT 6.1; WOW64) AppleWebKit/537.36 (KHTML, like Gecko) Chrome/36.0.1985.143 Safari/537.36\"               24\n",
       "Mozilla/5.0 (Windows NT 6.1; WOW64; rv:31.0) Gecko/20100101 Firefox/31.0                                                      18\n",
       "\"Mozilla/5.0 (Macintosh; Intel Mac OS X 10_9_4) AppleWebKit/537.36 (KHTML, like Gecko) Chrome/36.0.1985.125 Safari/537.36\"    16\n",
       "\"Mozilla/5.0 (Macintosh; Intel Mac OS X 10_9_4) AppleWebKit/537.36 (KHTML, like Gecko) Chrome/36.0.1985.143 Safari/537.36\"    12\n",
       "\"Mozilla/5.0 (Macintosh; Intel Mac OS X 10_9_4) AppleWebKit/537.77.4 (KHTML, like Gecko) Version/7.0.5 Safari/537.77.4\"       12\n",
       "Name: userAgent, dtype: int64"
      ]
     },
     "execution_count": 95,
     "metadata": {},
     "output_type": "execute_result"
    }
   ],
   "source": [
    "# Getting the possible list of operating systems\n",
    "opsys_df.userAgent.value_counts().head()"
   ]
  },
  {
   "cell_type": "code",
   "execution_count": 96,
   "metadata": {},
   "outputs": [],
   "source": [
    "# Creating a list of OS\n",
    "os_list = [\"Windows\", \"Mac\", \"Linux\", \"iPhone\", \"iPad\"]"
   ]
  },
  {
   "cell_type": "code",
   "execution_count": 97,
   "metadata": {},
   "outputs": [],
   "source": [
    "# Creating 'OS' column and extract strings that match our os_list and add to column \n",
    "opsys_df['os'] = opsys_df.userAgent.str.extract('(?i)({0})'.format('|'.join(os_list)))"
   ]
  },
  {
   "cell_type": "code",
   "execution_count": 98,
   "metadata": {},
   "outputs": [
    {
     "data": {
      "text/html": [
       "<div>\n",
       "<style scoped>\n",
       "    .dataframe tbody tr th:only-of-type {\n",
       "        vertical-align: middle;\n",
       "    }\n",
       "\n",
       "    .dataframe tbody tr th {\n",
       "        vertical-align: top;\n",
       "    }\n",
       "\n",
       "    .dataframe thead th {\n",
       "        text-align: right;\n",
       "    }\n",
       "</style>\n",
       "<table border=\"1\" class=\"dataframe\">\n",
       "  <thead>\n",
       "    <tr style=\"text-align: right;\">\n",
       "      <th></th>\n",
       "      <th>userId</th>\n",
       "      <th>userAgent</th>\n",
       "      <th>churn</th>\n",
       "      <th>os</th>\n",
       "    </tr>\n",
       "  </thead>\n",
       "  <tbody>\n",
       "    <tr>\n",
       "      <th>0</th>\n",
       "      <td>100010</td>\n",
       "      <td>\"Mozilla/5.0 (iPhone; CPU iPhone OS 7_1_2 like...</td>\n",
       "      <td>0</td>\n",
       "      <td>iPhone</td>\n",
       "    </tr>\n",
       "    <tr>\n",
       "      <th>1</th>\n",
       "      <td>200002</td>\n",
       "      <td>\"Mozilla/5.0 (iPhone; CPU iPhone OS 7_1 like M...</td>\n",
       "      <td>0</td>\n",
       "      <td>iPhone</td>\n",
       "    </tr>\n",
       "    <tr>\n",
       "      <th>2</th>\n",
       "      <td>125</td>\n",
       "      <td>\"Mozilla/5.0 (Macintosh; Intel Mac OS X 10_9_4...</td>\n",
       "      <td>1</td>\n",
       "      <td>Mac</td>\n",
       "    </tr>\n",
       "    <tr>\n",
       "      <th>3</th>\n",
       "      <td>124</td>\n",
       "      <td>\"Mozilla/5.0 (Macintosh; Intel Mac OS X 10_9_4...</td>\n",
       "      <td>0</td>\n",
       "      <td>Mac</td>\n",
       "    </tr>\n",
       "    <tr>\n",
       "      <th>4</th>\n",
       "      <td>51</td>\n",
       "      <td>\"Mozilla/5.0 (Windows NT 6.1; WOW64) AppleWebK...</td>\n",
       "      <td>1</td>\n",
       "      <td>Windows</td>\n",
       "    </tr>\n",
       "  </tbody>\n",
       "</table>\n",
       "</div>"
      ],
      "text/plain": [
       "   userId                                          userAgent  churn       os\n",
       "0  100010  \"Mozilla/5.0 (iPhone; CPU iPhone OS 7_1_2 like...      0   iPhone\n",
       "1  200002  \"Mozilla/5.0 (iPhone; CPU iPhone OS 7_1 like M...      0   iPhone\n",
       "2     125  \"Mozilla/5.0 (Macintosh; Intel Mac OS X 10_9_4...      1      Mac\n",
       "3     124  \"Mozilla/5.0 (Macintosh; Intel Mac OS X 10_9_4...      0      Mac\n",
       "4      51  \"Mozilla/5.0 (Windows NT 6.1; WOW64) AppleWebK...      1  Windows"
      ]
     },
     "execution_count": 98,
     "metadata": {},
     "output_type": "execute_result"
    }
   ],
   "source": [
    "# Quick check\n",
    "opsys_df.head()"
   ]
  },
  {
   "cell_type": "code",
   "execution_count": 99,
   "metadata": {},
   "outputs": [
    {
     "data": {
      "text/plain": [
       "Windows    111\n",
       "Mac         86\n",
       "iPhone      13\n",
       "Linux       12\n",
       "iPad         3\n",
       "Name: os, dtype: int64"
      ]
     },
     "execution_count": 99,
     "metadata": {},
     "output_type": "execute_result"
    }
   ],
   "source": [
    "# Count by OS\n",
    "opsys_df.os.value_counts()"
   ]
  },
  {
   "cell_type": "code",
   "execution_count": 100,
   "metadata": {},
   "outputs": [],
   "source": [
    "# Defining order for the plot\n",
    "OS_order = opsys_df.os.value_counts().index"
   ]
  },
  {
   "cell_type": "code",
   "execution_count": 101,
   "metadata": {},
   "outputs": [
    {
     "data": {
      "image/png": "[encoded data removed]",
      "text/plain": [
       "<matplotlib.figure.Figure at 0x7fdec855fa20>"
      ]
     },
     "metadata": {},
     "output_type": "display_data"
    }
   ],
   "source": [
    "# Comparing users by OS\n",
    "plt.figure(figsize=[10,8])\n",
    "sns.countplot(data = opsys_df, x = 'os', hue ='churn', order = OS_order)\n",
    "plt.title('Count of Churned Users vs.Loyal Users by Operating System')\n",
    "plt.legend(loc = 1, ncol = 2, framealpha =1, title = 'level');"
   ]
  },
  {
   "cell_type": "markdown",
   "metadata": {},
   "source": [
    "**Insights:**<br>\n",
    "Users were mostls using `Windows`. `Linux` users showed the highest churn rate. Since the number is so low, though, it won't be used in the model.\n",
    "\n",
    "Similarly, we can check if browsers affect churn rates using the same process."
   ]
  },
  {
   "cell_type": "code",
   "execution_count": 102,
   "metadata": {},
   "outputs": [],
   "source": [
    "browser_list = [\"Chrome\", \"Firefox\", \"Safari\", \"Trident\"]"
   ]
  },
  {
   "cell_type": "code",
   "execution_count": 103,
   "metadata": {},
   "outputs": [],
   "source": [
    "opsys_df['browser'] = opsys_df.userAgent.str.extract('(?i)({0})'.format('|'.join(browser_list)))"
   ]
  },
  {
   "cell_type": "code",
   "execution_count": 104,
   "metadata": {},
   "outputs": [
    {
     "data": {
      "text/plain": [
       "Chrome     117\n",
       "Firefox     50\n",
       "Safari      46\n",
       "Trident     12\n",
       "Name: browser, dtype: int64"
      ]
     },
     "execution_count": 104,
     "metadata": {},
     "output_type": "execute_result"
    }
   ],
   "source": [
    "opsys_df.browser.value_counts()"
   ]
  },
  {
   "cell_type": "code",
   "execution_count": 105,
   "metadata": {},
   "outputs": [],
   "source": [
    "# Defining order for plot\n",
    "browser_order = opsys_df.browser.value_counts().index"
   ]
  },
  {
   "cell_type": "code",
   "execution_count": 106,
   "metadata": {},
   "outputs": [
    {
     "data": {
      "image/png": "[encoded data removed]",
      "text/plain": [
       "<matplotlib.figure.Figure at 0x7fdec6808d30>"
      ]
     },
     "metadata": {},
     "output_type": "display_data"
    }
   ],
   "source": [
    "plt.figure(figsize=[10,8])\n",
    "sns.countplot(data = opsys_df, x = 'browser', hue ='churn', order = browser_order)\n",
    "plt.title('Count of Churned Users vs. Loyal Users by Browser')\n",
    "plt.legend(loc = 1, ncol = 2, framealpha =1, title = 'level');"
   ]
  },
  {
   "cell_type": "markdown",
   "metadata": {},
   "source": [
    "**Insights:**<br>\n",
    "`Chrome` is clearly the most popular browser. Relatively, `Firefox` users are the most likely to churn. The fewest users used `Trident`. It seems like there is no real link between browser choice and churn rate."
   ]
  },
  {
   "cell_type": "markdown",
   "metadata": {},
   "source": [
    "### Step 11: Days Since Registration for Sparkify\n",
    "Finally, let's take a look at the number of days since a user had registered."
   ]
  },
  {
   "cell_type": "code",
   "execution_count": 107,
   "metadata": {},
   "outputs": [],
   "source": [
    "days_df = spark_df.select(['userId', 'registration', 'ts', 'churn']).dropDuplicates().sort('userId')"
   ]
  },
  {
   "cell_type": "code",
   "execution_count": 108,
   "metadata": {},
   "outputs": [],
   "source": [
    "# Ordering by latest timestamp\n",
    "w = Window.partitionBy(\"userId\").orderBy(desc(\"ts\"))"
   ]
  },
  {
   "cell_type": "code",
   "execution_count": 109,
   "metadata": {},
   "outputs": [],
   "source": [
    "# Creating a rank with the most recent timestamp as rank on top\n",
    "days_df = days_df.withColumn(\"Rank\", dense_rank().over(w))"
   ]
  },
  {
   "cell_type": "code",
   "execution_count": 110,
   "metadata": {},
   "outputs": [
    {
     "name": "stdout",
     "output_type": "stream",
     "text": [
      "+------+-------------+-------------+-----+----+\n",
      "|userId| registration|           ts|churn|Rank|\n",
      "+------+-------------+-------------+-----+----+\n",
      "|    10|1538159495000|1542631788000|    0|   1|\n",
      "|    10|1538159495000|1542631753000|    0|   2|\n",
      "|    10|1538159495000|1542631690000|    0|   3|\n",
      "|    10|1538159495000|1542631518000|    0|   4|\n",
      "|    10|1538159495000|1542631517000|    0|   5|\n",
      "|    10|1538159495000|1542631090000|    0|   6|\n",
      "|    10|1538159495000|1542630866000|    0|   7|\n",
      "|    10|1538159495000|1542630637000|    0|   8|\n",
      "|    10|1538159495000|1542630407000|    0|   9|\n",
      "|    10|1538159495000|1542630394000|    0|  10|\n",
      "|    10|1538159495000|1542630248000|    0|  11|\n",
      "|    10|1538159495000|1542630247000|    0|  12|\n",
      "|    10|1538159495000|1542630029000|    0|  13|\n",
      "|    10|1538159495000|1542629861000|    0|  14|\n",
      "|    10|1538159495000|1542629636000|    0|  15|\n",
      "|    10|1538159495000|1542629464000|    0|  16|\n",
      "|    10|1538159495000|1542629238000|    0|  17|\n",
      "|    10|1538159495000|1542629029000|    0|  18|\n",
      "|    10|1538159495000|1542629028000|    0|  19|\n",
      "|    10|1538159495000|1542628798000|    0|  20|\n",
      "+------+-------------+-------------+-----+----+\n",
      "only showing top 20 rows\n",
      "\n"
     ]
    }
   ],
   "source": [
    "days_df.show()"
   ]
  },
  {
   "cell_type": "code",
   "execution_count": 111,
   "metadata": {},
   "outputs": [],
   "source": [
    "# Getting those with a rank of 1\n",
    "days_df = days_df.filter(days_df.Rank == 1).drop(days_df.Rank)"
   ]
  },
  {
   "cell_type": "code",
   "execution_count": 112,
   "metadata": {},
   "outputs": [
    {
     "name": "stdout",
     "output_type": "stream",
     "text": [
      "+------+-------------+-------------+-----+\n",
      "|userId| registration|           ts|churn|\n",
      "+------+-------------+-------------+-----+\n",
      "|    10|1538159495000|1542631788000|    0|\n",
      "|   100|1537982255000|1543587349000|    0|\n",
      "|100001|1534627466000|1538498205000|    1|\n",
      "|100002|1529934689000|1543799476000|    0|\n",
      "|100003|1537309344000|1539274781000|    1|\n",
      "|100004|1528560242000|1543459065000|    0|\n",
      "|100005|1532610926000|1539971825000|    1|\n",
      "|100006|1537964483000|1538753070000|    1|\n",
      "|100007|1533522419000|1543491909000|    1|\n",
      "|100008|1537440271000|1543335219000|    0|\n",
      "|100009|1537376437000|1540611104000|    1|\n",
      "|100010|1538016340000|1542823952000|    0|\n",
      "|100011|1537970819000|1538417085000|    1|\n",
      "|100012|1537381154000|1541100900000|    1|\n",
      "|100013|1537367773000|1541184816000|    1|\n",
      "|100014|1535389443000|1542740649000|    1|\n",
      "|100015|1537208989000|1543073753000|    1|\n",
      "|100016|1536854322000|1543335647000|    0|\n",
      "|100017|1533247234000|1540062847000|    1|\n",
      "|100018|1533812833000|1543378360000|    0|\n",
      "+------+-------------+-------------+-----+\n",
      "only showing top 20 rows\n",
      "\n"
     ]
    }
   ],
   "source": [
    "days_df.show()"
   ]
  },
  {
   "cell_type": "code",
   "execution_count": 113,
   "metadata": {},
   "outputs": [],
   "source": [
    "# Need to deduct the registration from ts \n",
    "days_df = days_df.withColumn(\"delta_days\", (days_df['ts']) - (days_df['registration']))"
   ]
  },
  {
   "cell_type": "code",
   "execution_count": 114,
   "metadata": {},
   "outputs": [
    {
     "name": "stdout",
     "output_type": "stream",
     "text": [
      "+------+-------------+-------------+-----+-----------+\n",
      "|userId| registration|           ts|churn| delta_days|\n",
      "+------+-------------+-------------+-----+-----------+\n",
      "|    10|1538159495000|1542631788000|    0| 4472293000|\n",
      "|   100|1537982255000|1543587349000|    0| 5605094000|\n",
      "|100001|1534627466000|1538498205000|    1| 3870739000|\n",
      "|100002|1529934689000|1543799476000|    0|13864787000|\n",
      "|100003|1537309344000|1539274781000|    1| 1965437000|\n",
      "|100004|1528560242000|1543459065000|    0|14898823000|\n",
      "|100005|1532610926000|1539971825000|    1| 7360899000|\n",
      "|100006|1537964483000|1538753070000|    1|  788587000|\n",
      "|100007|1533522419000|1543491909000|    1| 9969490000|\n",
      "|100008|1537440271000|1543335219000|    0| 5894948000|\n",
      "|100009|1537376437000|1540611104000|    1| 3234667000|\n",
      "|100010|1538016340000|1542823952000|    0| 4807612000|\n",
      "|100011|1537970819000|1538417085000|    1|  446266000|\n",
      "|100012|1537381154000|1541100900000|    1| 3719746000|\n",
      "|100013|1537367773000|1541184816000|    1| 3817043000|\n",
      "|100014|1535389443000|1542740649000|    1| 7351206000|\n",
      "|100015|1537208989000|1543073753000|    1| 5864764000|\n",
      "|100016|1536854322000|1543335647000|    0| 6481325000|\n",
      "|100017|1533247234000|1540062847000|    1| 6815613000|\n",
      "|100018|1533812833000|1543378360000|    0| 9565527000|\n",
      "+------+-------------+-------------+-----+-----------+\n",
      "only showing top 20 rows\n",
      "\n"
     ]
    }
   ],
   "source": [
    "days_df.show()"
   ]
  },
  {
   "cell_type": "code",
   "execution_count": 115,
   "metadata": {},
   "outputs": [],
   "source": [
    "days_df = days_df.withColumn('days',(days_df['delta_days']/1000/3600/24))"
   ]
  },
  {
   "cell_type": "code",
   "execution_count": 116,
   "metadata": {},
   "outputs": [
    {
     "name": "stdout",
     "output_type": "stream",
     "text": [
      "+------+-------------+-------------+-----+-----------+------------------+\n",
      "|userId| registration|           ts|churn| delta_days|              days|\n",
      "+------+-------------+-------------+-----+-----------+------------------+\n",
      "|    10|1538159495000|1542631788000|    0| 4472293000| 51.76265046296297|\n",
      "|   100|1537982255000|1543587349000|    0| 5605094000| 64.87377314814815|\n",
      "|100001|1534627466000|1538498205000|    1| 3870739000| 44.80021990740741|\n",
      "|100002|1529934689000|1543799476000|    0|13864787000|160.47207175925925|\n",
      "|100003|1537309344000|1539274781000|    1| 1965437000|22.748113425925926|\n",
      "|100004|1528560242000|1543459065000|    0|14898823000|172.44008101851853|\n",
      "|100005|1532610926000|1539971825000|    1| 7360899000| 85.19559027777778|\n",
      "|100006|1537964483000|1538753070000|    1|  788587000| 9.127164351851851|\n",
      "|100007|1533522419000|1543491909000|    1| 9969490000|115.38761574074074|\n",
      "|100008|1537440271000|1543335219000|    0| 5894948000| 68.22856481481482|\n",
      "|100009|1537376437000|1540611104000|    1| 3234667000| 37.43827546296296|\n",
      "|100010|1538016340000|1542823952000|    0| 4807612000|  55.6436574074074|\n",
      "|100011|1537970819000|1538417085000|    1|  446266000| 5.165115740740741|\n",
      "|100012|1537381154000|1541100900000|    1| 3719746000| 43.05261574074074|\n",
      "|100013|1537367773000|1541184816000|    1| 3817043000| 44.17873842592593|\n",
      "|100014|1535389443000|1542740649000|    1| 7351206000| 85.08340277777778|\n",
      "|100015|1537208989000|1543073753000|    1| 5864764000| 67.87921296296297|\n",
      "|100016|1536854322000|1543335647000|    0| 6481325000| 75.01533564814815|\n",
      "|100017|1533247234000|1540062847000|    1| 6815613000| 78.88440972222223|\n",
      "|100018|1533812833000|1543378360000|    0| 9565527000|110.71211805555555|\n",
      "+------+-------------+-------------+-----+-----------+------------------+\n",
      "only showing top 20 rows\n",
      "\n"
     ]
    }
   ],
   "source": [
    "days_df.show()"
   ]
  },
  {
   "cell_type": "code",
   "execution_count": 117,
   "metadata": {},
   "outputs": [],
   "source": [
    "# Pandas for viz\n",
    "days_df_pd = days_df.toPandas()"
   ]
  },
  {
   "cell_type": "code",
   "execution_count": 118,
   "metadata": {},
   "outputs": [
    {
     "data": {
      "image/png": "[encoded data removed]",
      "text/plain": [
       "<matplotlib.figure.Figure at 0x7fdec682e748>"
      ]
     },
     "metadata": {},
     "output_type": "display_data"
    }
   ],
   "source": [
    "# Plot boxplot\n",
    "plt.figure(figsize=[8,6])\n",
    "sns.boxplot(data = days_df_pd, x = 'churn', y ='days')\n",
    "plt.title('Count Churned Users vs. Loyal Users by Days Since Registering')\n",
    "plt.ylabel(\"Days Since Registered\");"
   ]
  },
  {
   "cell_type": "markdown",
   "metadata": {},
   "source": [
    "**Insights:**<br>\n",
    "User who had been registered for longer are on average more loyal. More recently registered users are more likely to churn."
   ]
  },
  {
   "cell_type": "markdown",
   "metadata": {},
   "source": [
    "# <a class=\"anchor\" id=\"Feature-Engineering\">Feature Engineering</a>\n",
    "<sub>*[(Back to Table of Contents)](#Table-of-Contents)*</sub>"
   ]
  },
  {
   "cell_type": "markdown",
   "metadata": {},
   "source": [
    "Now that we have gathered the first insights with EDA, we can start building out the most promising features to train our model on.\n",
    "\n",
    "We will be focusing on:\n",
    "\n",
    "**Categorical:**<br>\n",
    "`gender`<br>\n",
    "`level`\n",
    "\n",
    "**Numerical:**\n",
    "\n",
    "`number of songs per session`<br>\n",
    "`number of rollads actions`<br>\n",
    "`number of thumb down actions`<br>\n",
    "`number of thumbs up actions`<br>\n",
    "`number of friends added`<br>\n",
    "`number of songs added to playlist`<br>\n",
    "`number of different artists listened to on Sparkify`<br>\n",
    "`number of days since registering`<br>\n",
    "\n",
    "Furthermore, we will add a label for `churn` to be able to join these together in the end.\n",
    "A dataFrame where each row represents the information pertaining to each individual user will thus be created.\n",
    "When the userId is dropped, the df can be vectorized, standardized and delivered to various ML algorithms.\n",
    "\n",
    "We will start by converting our categorical variable `gender` and `level` to numeric variables."
   ]
  },
  {
   "cell_type": "markdown",
   "metadata": {},
   "source": [
    "### Gender\n",
    "\n",
    "The first feature will be `gender` which is categorical.\n",
    "1 is assigned for 'female' and a 0 for 'male'."
   ]
  },
  {
   "cell_type": "code",
   "execution_count": 119,
   "metadata": {},
   "outputs": [],
   "source": [
    "gender_f1 = spark_df.select(['userId', 'gender']).dropDuplicates()"
   ]
  },
  {
   "cell_type": "code",
   "execution_count": 120,
   "metadata": {},
   "outputs": [],
   "source": [
    "# Creating a gender column \n",
    "gender_f1 = gender_f1.withColumn('gender', when(col('gender') == 'F', 1).otherwise(0))"
   ]
  },
  {
   "cell_type": "code",
   "execution_count": 121,
   "metadata": {},
   "outputs": [
    {
     "data": {
      "text/plain": [
       "225"
      ]
     },
     "execution_count": 121,
     "metadata": {},
     "output_type": "execute_result"
    }
   ],
   "source": [
    "gender_f1.count()"
   ]
  },
  {
   "cell_type": "code",
   "execution_count": 122,
   "metadata": {},
   "outputs": [
    {
     "name": "stdout",
     "output_type": "stream",
     "text": [
      "+------+------+\n",
      "|userId|gender|\n",
      "+------+------+\n",
      "|    44|     1|\n",
      "|    46|     1|\n",
      "|    41|     1|\n",
      "|    72|     1|\n",
      "|300023|     1|\n",
      "|    39|     1|\n",
      "|100010|     1|\n",
      "|    40|     1|\n",
      "|    94|     1|\n",
      "|    35|     1|\n",
      "|    75|     1|\n",
      "|   116|     1|\n",
      "|200001|     0|\n",
      "|200020|     0|\n",
      "|100008|     1|\n",
      "|200015|     0|\n",
      "|   100|     0|\n",
      "|100006|     1|\n",
      "|300005|     1|\n",
      "|    25|     1|\n",
      "+------+------+\n",
      "only showing top 20 rows\n",
      "\n"
     ]
    }
   ],
   "source": [
    "# Quick check\n",
    "gender_f1.show()"
   ]
  },
  {
   "cell_type": "markdown",
   "metadata": {},
   "source": [
    "### Level\n",
    "\n",
    "Now, we will focus on the categorical variable `level`.\n",
    "Since, the level can be subject to change, we need to take the most recent only. We can use the rank procedure from before."
   ]
  },
  {
   "cell_type": "code",
   "execution_count": 123,
   "metadata": {},
   "outputs": [],
   "source": [
    "df2 = spark_df.select(['userId', 'level', 'ts']).dropDuplicates().sort('userId')"
   ]
  },
  {
   "cell_type": "code",
   "execution_count": 124,
   "metadata": {},
   "outputs": [],
   "source": [
    "w = Window.partitionBy(\"userId\").orderBy(desc(\"ts\"))"
   ]
  },
  {
   "cell_type": "code",
   "execution_count": 125,
   "metadata": {},
   "outputs": [],
   "source": [
    "df2 = df2.withColumn(\"Rank\", dense_rank().over(w))"
   ]
  },
  {
   "cell_type": "code",
   "execution_count": 126,
   "metadata": {},
   "outputs": [
    {
     "name": "stdout",
     "output_type": "stream",
     "text": [
      "+------+-----+-------------+----+\n",
      "|userId|level|           ts|Rank|\n",
      "+------+-----+-------------+----+\n",
      "|    10| paid|1542631788000|   1|\n",
      "|    10| paid|1542631753000|   2|\n",
      "|    10| paid|1542631690000|   3|\n",
      "|    10| paid|1542631518000|   4|\n",
      "|    10| paid|1542631517000|   5|\n",
      "|    10| paid|1542631090000|   6|\n",
      "|    10| paid|1542630866000|   7|\n",
      "|    10| paid|1542630637000|   8|\n",
      "|    10| paid|1542630407000|   9|\n",
      "|    10| paid|1542630394000|  10|\n",
      "|    10| paid|1542630248000|  11|\n",
      "|    10| paid|1542630247000|  12|\n",
      "|    10| paid|1542630029000|  13|\n",
      "|    10| paid|1542629861000|  14|\n",
      "|    10| paid|1542629636000|  15|\n",
      "|    10| paid|1542629464000|  16|\n",
      "|    10| paid|1542629238000|  17|\n",
      "|    10| paid|1542629029000|  18|\n",
      "|    10| paid|1542629028000|  19|\n",
      "|    10| paid|1542628798000|  20|\n",
      "+------+-----+-------------+----+\n",
      "only showing top 20 rows\n",
      "\n"
     ]
    }
   ],
   "source": [
    "df2.show()"
   ]
  },
  {
   "cell_type": "code",
   "execution_count": 127,
   "metadata": {},
   "outputs": [],
   "source": [
    "level_f2 = df2.filter(df2.Rank == 1).drop(df2.Rank)"
   ]
  },
  {
   "cell_type": "code",
   "execution_count": 128,
   "metadata": {},
   "outputs": [],
   "source": [
    "level_f2 = level_f2.drop('ts')"
   ]
  },
  {
   "cell_type": "code",
   "execution_count": 129,
   "metadata": {},
   "outputs": [],
   "source": [
    "level_f2 = level_f2.withColumn('level', when(col('level') == 'paid', 1).otherwise(0))"
   ]
  },
  {
   "cell_type": "code",
   "execution_count": 130,
   "metadata": {},
   "outputs": [
    {
     "data": {
      "text/plain": [
       "225"
      ]
     },
     "execution_count": 130,
     "metadata": {},
     "output_type": "execute_result"
    }
   ],
   "source": [
    "level_f2.count()"
   ]
  },
  {
   "cell_type": "code",
   "execution_count": 131,
   "metadata": {},
   "outputs": [
    {
     "name": "stdout",
     "output_type": "stream",
     "text": [
      "+------+-----+\n",
      "|userId|level|\n",
      "+------+-----+\n",
      "|    10|    1|\n",
      "|   100|    1|\n",
      "|100001|    0|\n",
      "|100002|    1|\n",
      "|100003|    0|\n",
      "|100004|    1|\n",
      "|100005|    0|\n",
      "|100006|    0|\n",
      "|100007|    1|\n",
      "|100008|    0|\n",
      "|100009|    0|\n",
      "|100010|    0|\n",
      "|100011|    0|\n",
      "|100012|    0|\n",
      "|100013|    1|\n",
      "|100014|    1|\n",
      "|100015|    1|\n",
      "|100016|    0|\n",
      "|100017|    0|\n",
      "|100018|    0|\n",
      "+------+-----+\n",
      "only showing top 20 rows\n",
      "\n"
     ]
    }
   ],
   "source": [
    "level_f2.show()"
   ]
  },
  {
   "cell_type": "markdown",
   "metadata": {},
   "source": [
    "### Average Number of songs per session\n",
    "The third feature will be average number of songs per session for each user."
   ]
  },
  {
   "cell_type": "code",
   "execution_count": 132,
   "metadata": {},
   "outputs": [],
   "source": [
    "song_f3 = spark_df.filter(spark_df.page == \"NextSong\").groupBy('userId','sessionId').count()"
   ]
  },
  {
   "cell_type": "code",
   "execution_count": 133,
   "metadata": {},
   "outputs": [
    {
     "name": "stdout",
     "output_type": "stream",
     "text": [
      "+------+---------+-----+\n",
      "|userId|sessionId|count|\n",
      "+------+---------+-----+\n",
      "|    92|      358|   57|\n",
      "|    42|      433|   16|\n",
      "+------+---------+-----+\n",
      "only showing top 2 rows\n",
      "\n"
     ]
    }
   ],
   "source": [
    "spark_df.filter(spark_df.page == \"NextSong\").groupBy('userId','sessionId').count().show(2)"
   ]
  },
  {
   "cell_type": "code",
   "execution_count": 134,
   "metadata": {},
   "outputs": [],
   "source": [
    "song_f3 = song_f3.groupby('userId').agg({\"count\":\"avg\"})"
   ]
  },
  {
   "cell_type": "code",
   "execution_count": 135,
   "metadata": {},
   "outputs": [],
   "source": [
    "song_f3 = song_f3.withColumnRenamed(\"avg(count)\", \"avg_song\")"
   ]
  },
  {
   "cell_type": "code",
   "execution_count": 136,
   "metadata": {},
   "outputs": [
    {
     "data": {
      "text/plain": [
       "225"
      ]
     },
     "execution_count": 136,
     "metadata": {},
     "output_type": "execute_result"
    }
   ],
   "source": [
    "song_f3.count()"
   ]
  },
  {
   "cell_type": "code",
   "execution_count": 137,
   "metadata": {},
   "outputs": [
    {
     "name": "stdout",
     "output_type": "stream",
     "text": [
      "+------+------------------+\n",
      "|userId|          avg_song|\n",
      "+------+------------------+\n",
      "|100010|39.285714285714285|\n",
      "|200002|              64.5|\n",
      "+------+------------------+\n",
      "only showing top 2 rows\n",
      "\n"
     ]
    }
   ],
   "source": [
    "song_f3.show(2)"
   ]
  },
  {
   "cell_type": "markdown",
   "metadata": {},
   "source": [
    "### Number of rollads actions\n",
    "With the next feature we are considering the number of `roll advert` actions.\n",
    "This had a higher number of roll ad count for churned users since those who use the app for free see ads while paid users are not shown ads."
   ]
  },
  {
   "cell_type": "code",
   "execution_count": 138,
   "metadata": {},
   "outputs": [],
   "source": [
    "rollad_f4 = spark_df.select([\"userId\", \"page\"])"
   ]
  },
  {
   "cell_type": "code",
   "execution_count": 139,
   "metadata": {},
   "outputs": [],
   "source": [
    "rollad_event = udf(lambda x: 1 if x == \"Roll Advert\" else 0, IntegerType())"
   ]
  },
  {
   "cell_type": "code",
   "execution_count": 140,
   "metadata": {},
   "outputs": [],
   "source": [
    "# Creating rollad column\n",
    "rollad_f4 = rollad_f4.withColumn(\"rollad\", rollad_event(\"page\"))"
   ]
  },
  {
   "cell_type": "code",
   "execution_count": 141,
   "metadata": {},
   "outputs": [],
   "source": [
    "rollad_f4 = rollad_f4.groupby('userId').sum(\"rollad\")\n"
   ]
  },
  {
   "cell_type": "code",
   "execution_count": 142,
   "metadata": {},
   "outputs": [],
   "source": [
    "rollad_f4 = rollad_f4.withColumnRenamed(\"sum(rollad)\", \"roll_ad\")"
   ]
  },
  {
   "cell_type": "code",
   "execution_count": 143,
   "metadata": {},
   "outputs": [
    {
     "data": {
      "text/plain": [
       "225"
      ]
     },
     "execution_count": 143,
     "metadata": {},
     "output_type": "execute_result"
    }
   ],
   "source": [
    "rollad_f4.count()"
   ]
  },
  {
   "cell_type": "code",
   "execution_count": 144,
   "metadata": {},
   "outputs": [
    {
     "name": "stdout",
     "output_type": "stream",
     "text": [
      "+------+-------+\n",
      "|userId|roll_ad|\n",
      "+------+-------+\n",
      "|100010|     52|\n",
      "|200002|      7|\n",
      "+------+-------+\n",
      "only showing top 2 rows\n",
      "\n"
     ]
    }
   ],
   "source": [
    "rollad_f4.show(2)"
   ]
  },
  {
   "cell_type": "markdown",
   "metadata": {},
   "source": [
    "### Number of thumb down actions\n",
    "The fifth feature we can add to our feature dataframe is thumbs down. Users who had churned in the past had performed more thumbs down actions than those who stayed with the service."
   ]
  },
  {
   "cell_type": "code",
   "execution_count": 145,
   "metadata": {},
   "outputs": [],
   "source": [
    "thumbdown_f5 = spark_df.select([\"userId\", \"page\"])"
   ]
  },
  {
   "cell_type": "code",
   "execution_count": 146,
   "metadata": {},
   "outputs": [],
   "source": [
    "thumddown_event = udf(lambda x: 1 if x == \"Thumbs Down\" else 0, IntegerType())"
   ]
  },
  {
   "cell_type": "code",
   "execution_count": 147,
   "metadata": {},
   "outputs": [],
   "source": [
    "thumbdown_f5 = thumbdown_f5.withColumn(\"Thumbs Down\", thumddown_event(\"page\"))"
   ]
  },
  {
   "cell_type": "code",
   "execution_count": 148,
   "metadata": {},
   "outputs": [],
   "source": [
    "thumbdown_f5 = thumbdown_f5.groupby('userId').sum(\"Thumbs Down\")"
   ]
  },
  {
   "cell_type": "code",
   "execution_count": 149,
   "metadata": {},
   "outputs": [],
   "source": [
    "thumbdown_f5 = thumbdown_f5.withColumnRenamed(\"sum(Thumbs Down)\", \"thumbs_down\")"
   ]
  },
  {
   "cell_type": "code",
   "execution_count": 150,
   "metadata": {},
   "outputs": [
    {
     "data": {
      "text/plain": [
       "225"
      ]
     },
     "execution_count": 150,
     "metadata": {},
     "output_type": "execute_result"
    }
   ],
   "source": [
    "thumbdown_f5.count()"
   ]
  },
  {
   "cell_type": "code",
   "execution_count": 151,
   "metadata": {},
   "outputs": [
    {
     "name": "stdout",
     "output_type": "stream",
     "text": [
      "+------+-----------+\n",
      "|userId|thumbs_down|\n",
      "+------+-----------+\n",
      "|100010|          5|\n",
      "|200002|          6|\n",
      "+------+-----------+\n",
      "only showing top 2 rows\n",
      "\n"
     ]
    }
   ],
   "source": [
    "thumbdown_f5.show(2)"
   ]
  },
  {
   "cell_type": "markdown",
   "metadata": {},
   "source": [
    "### Number of thumbs up actions\n",
    "We can do the same for thumb up actions. Users who stayed with the service had performed more thumbs up actions in the past."
   ]
  },
  {
   "cell_type": "code",
   "execution_count": 152,
   "metadata": {},
   "outputs": [],
   "source": [
    "thumbup_f6 = spark_df.select([\"userId\", \"page\"])"
   ]
  },
  {
   "cell_type": "code",
   "execution_count": 153,
   "metadata": {},
   "outputs": [],
   "source": [
    "thumbup_event = udf(lambda x: 1 if x == \"Thumbs Up\" else 0, IntegerType())"
   ]
  },
  {
   "cell_type": "code",
   "execution_count": 154,
   "metadata": {},
   "outputs": [],
   "source": [
    "thumbup_f6 = thumbup_f6.withColumn(\"Thumbs Up\", thumbup_event(\"page\"))"
   ]
  },
  {
   "cell_type": "code",
   "execution_count": 155,
   "metadata": {},
   "outputs": [],
   "source": [
    "thumbup_f6 = thumbup_f6.groupby('userId').sum(\"Thumbs Up\")"
   ]
  },
  {
   "cell_type": "code",
   "execution_count": 156,
   "metadata": {},
   "outputs": [],
   "source": [
    "thumbup_f6 = thumbup_f6.withColumnRenamed(\"sum(Thumbs Up)\", \"thumbs_up\")"
   ]
  },
  {
   "cell_type": "code",
   "execution_count": 157,
   "metadata": {},
   "outputs": [
    {
     "data": {
      "text/plain": [
       "225"
      ]
     },
     "execution_count": 157,
     "metadata": {},
     "output_type": "execute_result"
    }
   ],
   "source": [
    "thumbup_f6.count()"
   ]
  },
  {
   "cell_type": "code",
   "execution_count": 158,
   "metadata": {},
   "outputs": [
    {
     "name": "stdout",
     "output_type": "stream",
     "text": [
      "+------+---------+\n",
      "|userId|thumbs_up|\n",
      "+------+---------+\n",
      "|100010|       17|\n",
      "|200002|       21|\n",
      "+------+---------+\n",
      "only showing top 2 rows\n",
      "\n"
     ]
    }
   ],
   "source": [
    "thumbup_f6.show(2)"
   ]
  },
  {
   "cell_type": "markdown",
   "metadata": {},
   "source": [
    "### Number of friends added\n",
    "Similarly, number of friends added can indicate if a user is likely to churn or not. In the past, those who added more friends stayed with the app."
   ]
  },
  {
   "cell_type": "code",
   "execution_count": 159,
   "metadata": {},
   "outputs": [],
   "source": [
    "friend_f7 = spark_df.select([\"userId\", \"page\"])"
   ]
  },
  {
   "cell_type": "code",
   "execution_count": 160,
   "metadata": {},
   "outputs": [],
   "source": [
    "add_friend = udf(lambda x: 1 if x == \"Add Friend\" else 0, IntegerType())"
   ]
  },
  {
   "cell_type": "code",
   "execution_count": 161,
   "metadata": {},
   "outputs": [],
   "source": [
    "friend_f7 = friend_f7.withColumn(\"add_friend\", add_friend(\"page\"))"
   ]
  },
  {
   "cell_type": "code",
   "execution_count": 162,
   "metadata": {},
   "outputs": [],
   "source": [
    "friend_f7 = friend_f7.groupby('userId').sum(\"add_friend\")"
   ]
  },
  {
   "cell_type": "code",
   "execution_count": 163,
   "metadata": {},
   "outputs": [],
   "source": [
    "friend_f7 = friend_f7.withColumnRenamed(\"sum(add_friend)\", \"add_friend\")"
   ]
  },
  {
   "cell_type": "code",
   "execution_count": 164,
   "metadata": {},
   "outputs": [
    {
     "data": {
      "text/plain": [
       "225"
      ]
     },
     "execution_count": 164,
     "metadata": {},
     "output_type": "execute_result"
    }
   ],
   "source": [
    "friend_f7.count()"
   ]
  },
  {
   "cell_type": "code",
   "execution_count": 165,
   "metadata": {},
   "outputs": [
    {
     "name": "stdout",
     "output_type": "stream",
     "text": [
      "+------+----------+\n",
      "|userId|add_friend|\n",
      "+------+----------+\n",
      "|100010|         4|\n",
      "|200002|         4|\n",
      "+------+----------+\n",
      "only showing top 2 rows\n",
      "\n"
     ]
    }
   ],
   "source": [
    "friend_f7.show(2)"
   ]
  },
  {
   "cell_type": "markdown",
   "metadata": {},
   "source": [
    "### Number of songs added to playlist\n",
    "Again, those who added more songs to their playlists had stayed with the service so this can provide an indication of whether a user is likely to churn."
   ]
  },
  {
   "cell_type": "code",
   "execution_count": 166,
   "metadata": {},
   "outputs": [],
   "source": [
    "playlist_f8 = spark_df.select([\"userId\", \"page\"])"
   ]
  },
  {
   "cell_type": "code",
   "execution_count": 167,
   "metadata": {},
   "outputs": [],
   "source": [
    "add_playlist = udf(lambda x: 1 if x == \"Add to Playlist\" else 0, IntegerType())"
   ]
  },
  {
   "cell_type": "code",
   "execution_count": 168,
   "metadata": {},
   "outputs": [],
   "source": [
    "playlist_f8 = playlist_f8.withColumn(\"Playlist\", add_playlist(\"page\"))"
   ]
  },
  {
   "cell_type": "code",
   "execution_count": 169,
   "metadata": {},
   "outputs": [],
   "source": [
    "playlist_f8 = playlist_f8.groupby('userId').sum(\"Playlist\")"
   ]
  },
  {
   "cell_type": "code",
   "execution_count": 170,
   "metadata": {},
   "outputs": [],
   "source": [
    "playlist_f8 = playlist_f8.withColumnRenamed(\"sum(Playlist)\", \"playlist\")"
   ]
  },
  {
   "cell_type": "code",
   "execution_count": 171,
   "metadata": {},
   "outputs": [
    {
     "data": {
      "text/plain": [
       "225"
      ]
     },
     "execution_count": 171,
     "metadata": {},
     "output_type": "execute_result"
    }
   ],
   "source": [
    "playlist_f8.count()"
   ]
  },
  {
   "cell_type": "code",
   "execution_count": 172,
   "metadata": {},
   "outputs": [
    {
     "name": "stdout",
     "output_type": "stream",
     "text": [
      "+------+--------+\n",
      "|userId|playlist|\n",
      "+------+--------+\n",
      "|100010|       7|\n",
      "|200002|       8|\n",
      "+------+--------+\n",
      "only showing top 2 rows\n",
      "\n"
     ]
    }
   ],
   "source": [
    "playlist_f8.show(2)"
   ]
  },
  {
   "cell_type": "markdown",
   "metadata": {},
   "source": [
    "### Number of different Artists Listened to on Sparkify\n",
    "\n",
    "As we discovered in EDA, users that listened to more diverse artists were less likely to churn."
   ]
  },
  {
   "cell_type": "code",
   "execution_count": 173,
   "metadata": {},
   "outputs": [],
   "source": [
    "artists_f9 = spark_df.select(\"userId\", \"artist\").dropDuplicates().groupby(\"userId\").count()"
   ]
  },
  {
   "cell_type": "code",
   "execution_count": 174,
   "metadata": {},
   "outputs": [],
   "source": [
    "artists_f9 = artists_f9.withColumnRenamed(\"count\", \"num_artists\")"
   ]
  },
  {
   "cell_type": "code",
   "execution_count": 175,
   "metadata": {},
   "outputs": [
    {
     "data": {
      "text/plain": [
       "225"
      ]
     },
     "execution_count": 175,
     "metadata": {},
     "output_type": "execute_result"
    }
   ],
   "source": [
    "artists_f9.count()"
   ]
  },
  {
   "cell_type": "code",
   "execution_count": 176,
   "metadata": {},
   "outputs": [
    {
     "name": "stdout",
     "output_type": "stream",
     "text": [
      "+------+-----------+\n",
      "|userId|num_artists|\n",
      "+------+-----------+\n",
      "|100010|        253|\n",
      "|200002|        340|\n",
      "+------+-----------+\n",
      "only showing top 2 rows\n",
      "\n"
     ]
    }
   ],
   "source": [
    "artists_f9.show(2)"
   ]
  },
  {
   "cell_type": "markdown",
   "metadata": {},
   "source": [
    "### Number of Days Since Registering\n",
    "Number of days since registering also looked useful from our EDA. We saw that users who had a shorter number of days since registering churned more than those who had used the service for a longer time.\n",
    "\n"
   ]
  },
  {
   "cell_type": "code",
   "execution_count": 177,
   "metadata": {},
   "outputs": [
    {
     "name": "stdout",
     "output_type": "stream",
     "text": [
      "+------+-------------+-------------+-----+-----------+------------------+\n",
      "|userId| registration|           ts|churn| delta_days|              days|\n",
      "+------+-------------+-------------+-----+-----------+------------------+\n",
      "|    10|1538159495000|1542631788000|    0| 4472293000| 51.76265046296297|\n",
      "|   100|1537982255000|1543587349000|    0| 5605094000| 64.87377314814815|\n",
      "|100001|1534627466000|1538498205000|    1| 3870739000| 44.80021990740741|\n",
      "|100002|1529934689000|1543799476000|    0|13864787000|160.47207175925925|\n",
      "|100003|1537309344000|1539274781000|    1| 1965437000|22.748113425925926|\n",
      "|100004|1528560242000|1543459065000|    0|14898823000|172.44008101851853|\n",
      "|100005|1532610926000|1539971825000|    1| 7360899000| 85.19559027777778|\n",
      "|100006|1537964483000|1538753070000|    1|  788587000| 9.127164351851851|\n",
      "|100007|1533522419000|1543491909000|    1| 9969490000|115.38761574074074|\n",
      "|100008|1537440271000|1543335219000|    0| 5894948000| 68.22856481481482|\n",
      "|100009|1537376437000|1540611104000|    1| 3234667000| 37.43827546296296|\n",
      "|100010|1538016340000|1542823952000|    0| 4807612000|  55.6436574074074|\n",
      "|100011|1537970819000|1538417085000|    1|  446266000| 5.165115740740741|\n",
      "|100012|1537381154000|1541100900000|    1| 3719746000| 43.05261574074074|\n",
      "|100013|1537367773000|1541184816000|    1| 3817043000| 44.17873842592593|\n",
      "|100014|1535389443000|1542740649000|    1| 7351206000| 85.08340277777778|\n",
      "|100015|1537208989000|1543073753000|    1| 5864764000| 67.87921296296297|\n",
      "|100016|1536854322000|1543335647000|    0| 6481325000| 75.01533564814815|\n",
      "|100017|1533247234000|1540062847000|    1| 6815613000| 78.88440972222223|\n",
      "|100018|1533812833000|1543378360000|    0| 9565527000|110.71211805555555|\n",
      "+------+-------------+-------------+-----+-----------+------------------+\n",
      "only showing top 20 rows\n",
      "\n"
     ]
    }
   ],
   "source": [
    "days_df.show()"
   ]
  },
  {
   "cell_type": "code",
   "execution_count": 178,
   "metadata": {},
   "outputs": [],
   "source": [
    "days_f10 = days_df.drop('registration', 'ts', 'churn', 'delta_days')"
   ]
  },
  {
   "cell_type": "code",
   "execution_count": 179,
   "metadata": {},
   "outputs": [
    {
     "data": {
      "text/plain": [
       "225"
      ]
     },
     "execution_count": 179,
     "metadata": {},
     "output_type": "execute_result"
    }
   ],
   "source": [
    "days_f10.count()"
   ]
  },
  {
   "cell_type": "code",
   "execution_count": 180,
   "metadata": {},
   "outputs": [
    {
     "name": "stdout",
     "output_type": "stream",
     "text": [
      "+------+------------------+\n",
      "|userId|              days|\n",
      "+------+------------------+\n",
      "|    10| 51.76265046296297|\n",
      "|   100| 64.87377314814815|\n",
      "|100001| 44.80021990740741|\n",
      "|100002|160.47207175925925|\n",
      "|100003|22.748113425925926|\n",
      "|100004|172.44008101851853|\n",
      "|100005| 85.19559027777778|\n",
      "|100006| 9.127164351851851|\n",
      "|100007|115.38761574074074|\n",
      "|100008| 68.22856481481482|\n",
      "|100009| 37.43827546296296|\n",
      "|100010|  55.6436574074074|\n",
      "|100011| 5.165115740740741|\n",
      "|100012| 43.05261574074074|\n",
      "|100013| 44.17873842592593|\n",
      "|100014| 85.08340277777778|\n",
      "|100015| 67.87921296296297|\n",
      "|100016| 75.01533564814815|\n",
      "|100017| 78.88440972222223|\n",
      "|100018|110.71211805555555|\n",
      "+------+------------------+\n",
      "only showing top 20 rows\n",
      "\n"
     ]
    }
   ],
   "source": [
    "days_f10.show()"
   ]
  },
  {
   "cell_type": "markdown",
   "metadata": {},
   "source": [
    "### Label\n",
    "Now we can create our label column indicating if the user churned `1` or not `0`."
   ]
  },
  {
   "cell_type": "code",
   "execution_count": 181,
   "metadata": {},
   "outputs": [],
   "source": [
    "label = spark_df.select(\"userId\", \"churn\").dropDuplicates().groupby(\"userId\", \"churn\").count()"
   ]
  },
  {
   "cell_type": "code",
   "execution_count": 182,
   "metadata": {},
   "outputs": [],
   "source": [
    "label = label.drop('count')"
   ]
  },
  {
   "cell_type": "code",
   "execution_count": 183,
   "metadata": {},
   "outputs": [
    {
     "data": {
      "text/plain": [
       "225"
      ]
     },
     "execution_count": 183,
     "metadata": {},
     "output_type": "execute_result"
    }
   ],
   "source": [
    "label.count()"
   ]
  },
  {
   "cell_type": "code",
   "execution_count": 184,
   "metadata": {},
   "outputs": [],
   "source": [
    "label = label.withColumnRenamed(\"churn\", \"label\")"
   ]
  },
  {
   "cell_type": "code",
   "execution_count": 185,
   "metadata": {},
   "outputs": [
    {
     "name": "stdout",
     "output_type": "stream",
     "text": [
      "+------+-----+\n",
      "|userId|label|\n",
      "+------+-----+\n",
      "|100010|    0|\n",
      "|200002|    0|\n",
      "|   125|    1|\n",
      "|   124|    0|\n",
      "|    51|    1|\n",
      "|     7|    0|\n",
      "|    15|    0|\n",
      "|    54|    1|\n",
      "|   155|    0|\n",
      "|100014|    1|\n",
      "|   132|    0|\n",
      "|   154|    0|\n",
      "|   101|    1|\n",
      "|    11|    0|\n",
      "|   138|    0|\n",
      "|300017|    0|\n",
      "|100021|    1|\n",
      "|    29|    1|\n",
      "|    69|    0|\n",
      "|   112|    0|\n",
      "+------+-----+\n",
      "only showing top 20 rows\n",
      "\n"
     ]
    }
   ],
   "source": [
    "label.show()"
   ]
  },
  {
   "cell_type": "markdown",
   "metadata": {},
   "source": [
    "### Create Features Dataset\n",
    "Now that we have our features we need to join these together on userId."
   ]
  },
  {
   "cell_type": "code",
   "execution_count": 186,
   "metadata": {},
   "outputs": [],
   "source": [
    "feature_df = gender_f1.join(level_f2, [\"userId\"]).join(song_f3, [\"userId\"]).join(rollad_f4, [\"userId\"]).join(thumbdown_f5, [\"userId\"]).join(thumbup_f6, [\"userId\"]).join(friend_f7, [\"userId\"]).join(playlist_f8, [\"userId\"]).join(artists_f9, [\"userId\"]).join(days_f10, [\"userId\"]).join(label, [\"userId\"])"
   ]
  },
  {
   "cell_type": "code",
   "execution_count": 187,
   "metadata": {},
   "outputs": [
    {
     "name": "stdout",
     "output_type": "stream",
     "text": [
      "+------+------+-----+------------------+-------+-----------+---------+----------+--------+-----------+------------------+-----+\n",
      "|userId|gender|level|          avg_song|roll_ad|thumbs_down|thumbs_up|add_friend|playlist|num_artists|              days|label|\n",
      "+------+------+-----+------------------+-------+-----------+---------+----------+--------+-----------+------------------+-----+\n",
      "|100010|     1|    0|39.285714285714285|     52|          5|       17|         4|       7|        253|  55.6436574074074|    0|\n",
      "|200002|     0|    1|              64.5|      7|          6|       21|         4|       8|        340| 70.07462962962963|    0|\n",
      "|   125|     0|    0|               8.0|      1|          0|        0|         0|       0|          9| 71.31688657407408|    1|\n",
      "|   124|     1|    1|145.67857142857142|      4|         41|      171|        74|     118|       2233|131.55591435185184|    0|\n",
      "|    51|     0|    1|             211.1|      0|         21|      100|        28|      52|       1386|19.455844907407407|    1|\n",
      "|     7|     0|    0|21.428571428571427|     16|          1|        7|         1|       5|        143| 72.77818287037037|    0|\n",
      "|    15|     0|    1|136.71428571428572|      1|         14|       81|        31|      59|       1303|56.513576388888886|    0|\n",
      "|    54|     1|    1| 81.17142857142858|     47|         29|      163|        33|      72|       1745|110.75168981481481|    1|\n",
      "|   155|     1|    1|136.66666666666666|      8|          3|       58|        11|      24|        644|23.556018518518517|    0|\n",
      "|100014|     0|    1|42.833333333333336|      2|          3|       17|         6|       7|        234| 85.08340277777778|    1|\n",
      "|   132|     1|    1|             120.5|      2|         17|       96|        41|      38|       1300|  66.8891087962963|    0|\n",
      "|   154|     1|    0|              28.0|     10|          0|       11|         3|       1|         79|23.872037037037035|    0|\n",
      "|   101|     0|    1|             179.7|      8|         16|       86|        29|      61|       1242|53.965937499999995|    1|\n",
      "|    11|     1|    1|           40.4375|     39|          9|       40|         6|      20|        535|124.47825231481481|    0|\n",
      "|   138|     0|    1|             138.0|     17|         24|       95|        41|      67|       1333| 66.62668981481481|    0|\n",
      "|300017|     1|    1|59.540983606557376|     11|         28|      303|        63|     113|       2071| 74.35851851851852|    0|\n",
      "|100021|     0|    0|              46.0|     30|          5|       11|         7|       7|        208| 64.73886574074074|    1|\n",
      "|    29|     0|    1| 89.05882352941177|     22|         22|      154|        47|      89|       1805|60.104050925925925|    1|\n",
      "|    69|     1|    1|             125.0|      3|          9|       72|        12|      33|        866| 71.42444444444445|    0|\n",
      "|   112|     0|    0| 23.88888888888889|     21|          3|        9|         7|       7|        196| 87.46262731481481|    0|\n",
      "+------+------+-----+------------------+-------+-----------+---------+----------+--------+-----------+------------------+-----+\n",
      "only showing top 20 rows\n",
      "\n"
     ]
    }
   ],
   "source": [
    "feature_df.show()"
   ]
  },
  {
   "cell_type": "markdown",
   "metadata": {},
   "source": [
    "Now we can drop the userId."
   ]
  },
  {
   "cell_type": "code",
   "execution_count": 188,
   "metadata": {},
   "outputs": [],
   "source": [
    "feature_df = feature_df.drop('userId')"
   ]
  },
  {
   "cell_type": "code",
   "execution_count": 189,
   "metadata": {},
   "outputs": [
    {
     "name": "stdout",
     "output_type": "stream",
     "text": [
      "+------+-----+------------------+-------+-----------+---------+----------+--------+-----------+------------------+-----+\n",
      "|gender|level|          avg_song|roll_ad|thumbs_down|thumbs_up|add_friend|playlist|num_artists|              days|label|\n",
      "+------+-----+------------------+-------+-----------+---------+----------+--------+-----------+------------------+-----+\n",
      "|     1|    0|39.285714285714285|     52|          5|       17|         4|       7|        253|  55.6436574074074|    0|\n",
      "|     0|    1|              64.5|      7|          6|       21|         4|       8|        340| 70.07462962962963|    0|\n",
      "|     0|    0|               8.0|      1|          0|        0|         0|       0|          9| 71.31688657407408|    1|\n",
      "|     1|    1|145.67857142857142|      4|         41|      171|        74|     118|       2233|131.55591435185184|    0|\n",
      "|     0|    1|             211.1|      0|         21|      100|        28|      52|       1386|19.455844907407407|    1|\n",
      "|     0|    0|21.428571428571427|     16|          1|        7|         1|       5|        143| 72.77818287037037|    0|\n",
      "|     0|    1|136.71428571428572|      1|         14|       81|        31|      59|       1303|56.513576388888886|    0|\n",
      "|     1|    1| 81.17142857142858|     47|         29|      163|        33|      72|       1745|110.75168981481481|    1|\n",
      "|     1|    1|136.66666666666666|      8|          3|       58|        11|      24|        644|23.556018518518517|    0|\n",
      "|     0|    1|42.833333333333336|      2|          3|       17|         6|       7|        234| 85.08340277777778|    1|\n",
      "|     1|    1|             120.5|      2|         17|       96|        41|      38|       1300|  66.8891087962963|    0|\n",
      "|     1|    0|              28.0|     10|          0|       11|         3|       1|         79|23.872037037037035|    0|\n",
      "|     0|    1|             179.7|      8|         16|       86|        29|      61|       1242|53.965937499999995|    1|\n",
      "|     1|    1|           40.4375|     39|          9|       40|         6|      20|        535|124.47825231481481|    0|\n",
      "|     0|    1|             138.0|     17|         24|       95|        41|      67|       1333| 66.62668981481481|    0|\n",
      "|     1|    1|59.540983606557376|     11|         28|      303|        63|     113|       2071| 74.35851851851852|    0|\n",
      "|     0|    0|              46.0|     30|          5|       11|         7|       7|        208| 64.73886574074074|    1|\n",
      "|     0|    1| 89.05882352941177|     22|         22|      154|        47|      89|       1805|60.104050925925925|    1|\n",
      "|     1|    1|             125.0|      3|          9|       72|        12|      33|        866| 71.42444444444445|    0|\n",
      "|     0|    0| 23.88888888888889|     21|          3|        9|         7|       7|        196| 87.46262731481481|    0|\n",
      "+------+-----+------------------+-------+-----------+---------+----------+--------+-----------+------------------+-----+\n",
      "only showing top 20 rows\n",
      "\n"
     ]
    }
   ],
   "source": [
    "feature_df.show()"
   ]
  },
  {
   "cell_type": "markdown",
   "metadata": {},
   "source": [
    "Now we have a dataframe with all the features we can use in our model where each row represents a user. However, first we need to do some preprocessing."
   ]
  },
  {
   "cell_type": "markdown",
   "metadata": {},
   "source": [
    "# <a class=\"anchor\" id=\"Preprocessing\">Preprocessing</a>\n",
    "<sub>*[(Back to Table of Contents)](#Table-of-Contents)*</sub>"
   ]
  },
  {
   "cell_type": "code",
   "execution_count": 190,
   "metadata": {},
   "outputs": [
    {
     "name": "stdout",
     "output_type": "stream",
     "text": [
      "root\n",
      " |-- gender: integer (nullable = false)\n",
      " |-- level: integer (nullable = false)\n",
      " |-- avg_song: double (nullable = true)\n",
      " |-- roll_ad: long (nullable = true)\n",
      " |-- thumbs_down: long (nullable = true)\n",
      " |-- thumbs_up: long (nullable = true)\n",
      " |-- add_friend: long (nullable = true)\n",
      " |-- playlist: long (nullable = true)\n",
      " |-- num_artists: long (nullable = false)\n",
      " |-- days: double (nullable = true)\n",
      " |-- label: long (nullable = true)\n",
      "\n"
     ]
    }
   ],
   "source": [
    "# Printing the schema\n",
    "feature_df.printSchema()"
   ]
  },
  {
   "cell_type": "markdown",
   "metadata": {},
   "source": [
    "These columns are now converted to integers and floats."
   ]
  },
  {
   "cell_type": "code",
   "execution_count": 191,
   "metadata": {},
   "outputs": [],
   "source": [
    "for feature in feature_df.columns:\n",
    "    feature_df = feature_df.withColumn(feature, feature_df[feature].cast('float'))"
   ]
  },
  {
   "cell_type": "code",
   "execution_count": 192,
   "metadata": {},
   "outputs": [
    {
     "name": "stdout",
     "output_type": "stream",
     "text": [
      "root\n",
      " |-- gender: float (nullable = false)\n",
      " |-- level: float (nullable = false)\n",
      " |-- avg_song: float (nullable = true)\n",
      " |-- roll_ad: float (nullable = true)\n",
      " |-- thumbs_down: float (nullable = true)\n",
      " |-- thumbs_up: float (nullable = true)\n",
      " |-- add_friend: float (nullable = true)\n",
      " |-- playlist: float (nullable = true)\n",
      " |-- num_artists: float (nullable = false)\n",
      " |-- days: float (nullable = true)\n",
      " |-- label: float (nullable = true)\n",
      "\n"
     ]
    }
   ],
   "source": [
    "# Quick check\n",
    "feature_df.printSchema()"
   ]
  },
  {
   "cell_type": "markdown",
   "metadata": {},
   "source": [
    "The features now need to be vectorized."
   ]
  },
  {
   "cell_type": "markdown",
   "metadata": {},
   "source": [
    "### Vector Assembler\n",
    "The purpose of vector assembler is to tranform our features into a vector. The vector can then be standardised and fed into our chosen algorithms."
   ]
  },
  {
   "cell_type": "code",
   "execution_count": 193,
   "metadata": {},
   "outputs": [],
   "source": [
    "assembler = VectorAssembler(inputCols = [\"gender\", \"level\", \"avg_song\", \"roll_ad\", \"thumbs_down\", \"thumbs_up\", \"add_friend\", \"playlist\", \"num_artists\", \"days\"], outputCol = \"vec_features\")"
   ]
  },
  {
   "cell_type": "code",
   "execution_count": 194,
   "metadata": {},
   "outputs": [],
   "source": [
    "feature_df = assembler.transform(feature_df)"
   ]
  },
  {
   "cell_type": "code",
   "execution_count": 195,
   "metadata": {},
   "outputs": [
    {
     "name": "stdout",
     "output_type": "stream",
     "text": [
      "+------+-----+---------+-------+-----------+---------+----------+--------+-----------+----------+-----+--------------------+\n",
      "|gender|level| avg_song|roll_ad|thumbs_down|thumbs_up|add_friend|playlist|num_artists|      days|label|        vec_features|\n",
      "+------+-----+---------+-------+-----------+---------+----------+--------+-----------+----------+-----+--------------------+\n",
      "|   1.0|  0.0|39.285713|   52.0|        5.0|     17.0|       4.0|     7.0|      253.0| 55.643658|  0.0|[1.0,0.0,39.28571...|\n",
      "|   0.0|  1.0|     64.5|    7.0|        6.0|     21.0|       4.0|     8.0|      340.0|  70.07463|  0.0|[0.0,1.0,64.5,7.0...|\n",
      "|   0.0|  0.0|      8.0|    1.0|        0.0|      0.0|       0.0|     0.0|        9.0|  71.31689|  1.0|(10,[2,3,8,9],[8....|\n",
      "|   1.0|  1.0|145.67857|    4.0|       41.0|    171.0|      74.0|   118.0|     2233.0| 131.55591|  0.0|[1.0,1.0,145.6785...|\n",
      "|   0.0|  1.0|    211.1|    0.0|       21.0|    100.0|      28.0|    52.0|     1386.0| 19.455845|  1.0|[0.0,1.0,211.1000...|\n",
      "|   0.0|  0.0|21.428572|   16.0|        1.0|      7.0|       1.0|     5.0|      143.0|  72.77818|  0.0|[0.0,0.0,21.42857...|\n",
      "|   0.0|  1.0|136.71428|    1.0|       14.0|     81.0|      31.0|    59.0|     1303.0| 56.513577|  0.0|[0.0,1.0,136.7142...|\n",
      "|   1.0|  1.0|81.171425|   47.0|       29.0|    163.0|      33.0|    72.0|     1745.0|110.751686|  1.0|[1.0,1.0,81.17142...|\n",
      "|   1.0|  1.0|136.66667|    8.0|        3.0|     58.0|      11.0|    24.0|      644.0| 23.556019|  0.0|[1.0,1.0,136.6666...|\n",
      "|   0.0|  1.0|42.833332|    2.0|        3.0|     17.0|       6.0|     7.0|      234.0| 85.083405|  1.0|[0.0,1.0,42.83333...|\n",
      "|   1.0|  1.0|    120.5|    2.0|       17.0|     96.0|      41.0|    38.0|     1300.0|  66.88911|  0.0|[1.0,1.0,120.5,2....|\n",
      "|   1.0|  0.0|     28.0|   10.0|        0.0|     11.0|       3.0|     1.0|       79.0| 23.872038|  0.0|[1.0,0.0,28.0,10....|\n",
      "|   0.0|  1.0|    179.7|    8.0|       16.0|     86.0|      29.0|    61.0|     1242.0|  53.96594|  1.0|[0.0,1.0,179.6999...|\n",
      "|   1.0|  1.0|  40.4375|   39.0|        9.0|     40.0|       6.0|    20.0|      535.0| 124.47825|  0.0|[1.0,1.0,40.4375,...|\n",
      "|   0.0|  1.0|    138.0|   17.0|       24.0|     95.0|      41.0|    67.0|     1333.0| 66.626686|  0.0|[0.0,1.0,138.0,17...|\n",
      "|   1.0|  1.0|59.540985|   11.0|       28.0|    303.0|      63.0|   113.0|     2071.0|  74.35852|  0.0|[1.0,1.0,59.54098...|\n",
      "|   0.0|  0.0|     46.0|   30.0|        5.0|     11.0|       7.0|     7.0|      208.0|  64.73887|  1.0|[0.0,0.0,46.0,30....|\n",
      "|   0.0|  1.0| 89.05882|   22.0|       22.0|    154.0|      47.0|    89.0|     1805.0|  60.10405|  1.0|[0.0,1.0,89.05882...|\n",
      "|   1.0|  1.0|    125.0|    3.0|        9.0|     72.0|      12.0|    33.0|      866.0| 71.424446|  0.0|[1.0,1.0,125.0,3....|\n",
      "|   0.0|  0.0| 23.88889|   21.0|        3.0|      9.0|       7.0|     7.0|      196.0|  87.46262|  0.0|[0.0,0.0,23.88888...|\n",
      "+------+-----+---------+-------+-----------+---------+----------+--------+-----------+----------+-----+--------------------+\n",
      "only showing top 20 rows\n",
      "\n"
     ]
    }
   ],
   "source": [
    "feature_df.show()"
   ]
  },
  {
   "cell_type": "markdown",
   "metadata": {},
   "source": [
    "### Standardization\n",
    "After vecorizing, we can standardize the data. We want to avoid that features with higher absolute values dominate the results."
   ]
  },
  {
   "cell_type": "code",
   "execution_count": 196,
   "metadata": {},
   "outputs": [],
   "source": [
    "scaler = StandardScaler(inputCol=\"vec_features\", outputCol=\"features\", withStd=True)"
   ]
  },
  {
   "cell_type": "code",
   "execution_count": 197,
   "metadata": {},
   "outputs": [],
   "source": [
    "scaler_model = scaler.fit(feature_df)"
   ]
  },
  {
   "cell_type": "code",
   "execution_count": 198,
   "metadata": {},
   "outputs": [],
   "source": [
    "feature_df = scaler_model.transform(feature_df)"
   ]
  },
  {
   "cell_type": "code",
   "execution_count": 199,
   "metadata": {},
   "outputs": [
    {
     "data": {
      "text/plain": [
       "[Row(gender=1.0, level=0.0, avg_song=39.28571319580078, roll_ad=52.0, thumbs_down=5.0, thumbs_up=17.0, add_friend=4.0, playlist=7.0, num_artists=253.0, days=55.64365768432617, label=0.0, vec_features=DenseVector([1.0, 0.0, 39.2857, 52.0, 5.0, 17.0, 4.0, 7.0, 253.0, 55.6437]), features=DenseVector([2.0013, 0.0, 0.9219, 2.413, 0.3823, 0.2596, 0.1943, 0.214, 0.4189, 1.4775])),\n",
       " Row(gender=0.0, level=1.0, avg_song=64.5, roll_ad=7.0, thumbs_down=6.0, thumbs_up=21.0, add_friend=4.0, playlist=8.0, num_artists=340.0, days=70.07463073730469, label=0.0, vec_features=DenseVector([0.0, 1.0, 64.5, 7.0, 6.0, 21.0, 4.0, 8.0, 340.0, 70.0746]), features=DenseVector([0.0, 2.0844, 1.5135, 0.3248, 0.4588, 0.3207, 0.1943, 0.2445, 0.563, 1.8606]))]"
      ]
     },
     "execution_count": 199,
     "metadata": {},
     "output_type": "execute_result"
    }
   ],
   "source": [
    "feature_df.head(2)"
   ]
  },
  {
   "cell_type": "markdown",
   "metadata": {},
   "source": [
    "We can see from above that standardization has worked by comparing vec_features=DenseVector([0.0, 1.0, 64.5, 7.0, 6.0, 21.0, 4.0, 8.0, 340.0, 70.0746]), to features=DenseVector([0.0, 2.0844, 1.5135, 0.3248, 0.4588, 0.3207, 0.1943, 0.2445, 0.563, 1.8606])."
   ]
  },
  {
   "cell_type": "markdown",
   "metadata": {},
   "source": [
    "### Train, Test, Validation Split\n",
    "First, we'll check the number of records. It should be 225."
   ]
  },
  {
   "cell_type": "code",
   "execution_count": 200,
   "metadata": {},
   "outputs": [
    {
     "name": "stdout",
     "output_type": "stream",
     "text": [
      "+-----+-----+\n",
      "|label|count|\n",
      "+-----+-----+\n",
      "|  1.0|   52|\n",
      "|  0.0|  173|\n",
      "+-----+-----+\n",
      "\n"
     ]
    }
   ],
   "source": [
    "feature_df.groupby('label').count().show()"
   ]
  },
  {
   "cell_type": "markdown",
   "metadata": {},
   "source": [
    "Now we can split the data to three parts. A 60:20:20 split will be used here as we are working with a relatively compact dataset and we want to make sure the model testing provides reliable results. Also, a seed for the different ML models is included so that the results can be reproduced."
   ]
  },
  {
   "cell_type": "code",
   "execution_count": 201,
   "metadata": {},
   "outputs": [
    {
     "name": "stdout",
     "output_type": "stream",
     "text": [
      "Training Dataset:139\n",
      "Test Dataset:48\n",
      "Validation Dataset:38\n"
     ]
    }
   ],
   "source": [
    "train, test, valid = feature_df.randomSplit([0.6, 0.2, 0.2], seed = 1993)\n",
    "print(\"Training Dataset:\" + str(train.count()))\n",
    "print(\"Test Dataset:\" + str(test.count()))\n",
    "print(\"Validation Dataset:\" + str(valid.count()))"
   ]
  },
  {
   "cell_type": "markdown",
   "metadata": {},
   "source": [
    "# <a class=\"anchor\" id=\"Modeling\">Modeling</a>\n",
    "<sub>*[(Back to Table of Contents)](#Table-of-Contents)*</sub>"
   ]
  },
  {
   "cell_type": "markdown",
   "metadata": {},
   "source": [
    "After finishing the preprocessing, we had a dataset which could be used for testing different ML classification algorithms.[5] These included:\n",
    "- Logistic Regression\n",
    "- Random Forest Classifier\n",
    "- Gradient-Boosted Tree Classifier\n",
    "- Linear Support Vector Machine\n",
    "- Naive Bayes\n",
    "\n",
    "We are facing a classification problem, which is why this particular selection was made.\n",
    "\n",
    "**Metrics:**<br>\n",
    "For the evaluation we will be using the F1 score as the provided dataset sample is unbalanced and the sample is comparatively small. As we saw before, only 23% of the users churned.\n",
    "\n",
    "Now the modelling can start. After identifying the best model with regards to F1 score, accuracy & time, we can start tuning the model.\n",
    "\n",
    "All of the below algorithms have been chosen carefully and are suitable for binary classification (additional info [here](https://spark.apache.org/docs/latest/ml-classification-regression.html#random-forests)):\n",
    "\n",
    "**Logistic Regression:**\n",
    "<br>Logistic Regression is a reliable and therefore popular method for categorical response prediction. With spark.ml we can use the logistic regression for predicting a binary outcome with binomial regression. If we had several different outcomes we could address this by implementing multinomial logistic regression here. Also, it is relatively easy to implement.\n",
    "\n",
    "**Random Forest:**\n",
    "<br>Random Forest uses multiples of decision trees; hence the funny name. Using several decision trees and combining them reduces the risk of overfitting.\n",
    "\n",
    "**Gradient Boosted Tree Classifier:**\n",
    "<br>Gradient-Boosted Tree Classfier also uses ensambles of decision trees. Here, decision trees are trained iteratively with the objective of minimizing  a loss function. While GBTs tend to perform well with unbalanced data, we have to be more careful with overfitting.\n",
    "\n",
    "**Linear SVC:**\n",
    "<br>A linear support vector classifier (short SVC) \"constructs a hyperplane or set of hyperplanes in a high- or infinite-dimensional space, which can be used for classification, regression, or other tasks. Intuitively, a good separation is achieved by the hyperplane that has the largest distance to the nearest training-data points of any class (so-called functional margin), since in general the larger the margin the lower the generalization error of the classifier. LinearSVC in Spark ML supports binary classification with linear SVM. Internally, it optimizes the Hinge Loss using OWLQN optimizer.\"[7] In general SVC is more memory efficient. When using SVC, you have to be aware that the relation of features to samples can affect overfitting.\n",
    "\n",
    "Next steps:\n",
    "\n",
    "- Instantiate<br>\n",
    "- Fit Models on Train<br>\n",
    "- Predicting<br>\n",
    "- Evaluating<br>\n"
   ]
  },
  {
   "cell_type": "code",
   "execution_count": 202,
   "metadata": {},
   "outputs": [],
   "source": [
    "# Instantiate all models and include a seed for reproduciblity where possible\n",
    "lr = LogisticRegression(featuresCol = 'features', labelCol = 'label', maxIter=10)\n",
    "rf = RandomForestClassifier(featuresCol = 'features', labelCol = 'label', seed=1993)\n",
    "gbt = GBTClassifier(featuresCol = 'features', labelCol = 'label', maxIter=10, seed=1993)\n",
    "lsvc = LinearSVC(featuresCol = 'features', labelCol = 'label')\n",
    "nb = NaiveBayes(featuresCol = 'features', labelCol = 'label')"
   ]
  },
  {
   "cell_type": "code",
   "execution_count": 203,
   "metadata": {},
   "outputs": [],
   "source": [
    "# List of models\n",
    "model_list = [lr,rf,gbt,lsvc,nb]"
   ]
  },
  {
   "cell_type": "code",
   "execution_count": 204,
   "metadata": {},
   "outputs": [],
   "source": [
    "# Evaluator we are using is multiclassclassificationevaluator to get the F1 scores\n",
    "evaluator = MulticlassClassificationEvaluator(labelCol = 'label', predictionCol='prediction')"
   ]
  },
  {
   "cell_type": "code",
   "execution_count": 205,
   "metadata": {},
   "outputs": [
    {
     "name": "stdout",
     "output_type": "stream",
     "text": [
      "LogisticRegression training started\n",
      "LogisticRegression training ended\n",
      "Time taken for LogisticRegression is: 142.15988111495972 seconds\n",
      "LogisticRegression predicting started\n",
      "LogisticRegression predicting ended\n",
      "F1 for LogisticRegression is: 0.826195924594094\n",
      "The accuracy of the LogisticRegression model is: 0.868421052631579\n",
      "RandomForestClassifier training started\n",
      "RandomForestClassifier training ended\n",
      "Time taken for RandomForestClassifier is: 223.6624402999878 seconds\n",
      "RandomForestClassifier predicting started\n",
      "RandomForestClassifier predicting ended\n",
      "F1 for RandomForestClassifier is: 0.8634523371365476\n",
      "The accuracy of the RandomForestClassifier model is: 0.868421052631579\n",
      "GBTClassifier training started\n",
      "GBTClassifier training ended\n",
      "Time taken for GBTClassifier is: 247.31260657310486 seconds\n",
      "GBTClassifier predicting started\n",
      "GBTClassifier predicting ended\n",
      "F1 for GBTClassifier is: 0.7703875072296125\n",
      "The accuracy of the GBTClassifier model is: 0.7631578947368421\n",
      "LinearSVC training started\n",
      "LinearSVC training ended\n",
      "Time taken for LinearSVC is: 2762.5159525871277 seconds\n",
      "LinearSVC predicting started\n",
      "LinearSVC predicting ended\n",
      "F1 for LinearSVC is: 0.7699248120300751\n",
      "The accuracy of the LinearSVC model is: 0.8421052631578947\n",
      "NaiveBayes training started\n",
      "NaiveBayes training ended\n",
      "Time taken for NaiveBayes is: 172.65721774101257 seconds\n",
      "NaiveBayes predicting started\n",
      "NaiveBayes predicting ended\n",
      "F1 for NaiveBayes is: 0.7699248120300751\n",
      "The accuracy of the NaiveBayes model is: 0.8421052631578947\n"
     ]
    }
   ],
   "source": [
    "# Looping through all of the models\n",
    "for model in model_list:\n",
    "    # get model name \n",
    "    model_name = model.__class__.__name__\n",
    "    \n",
    "    # print training started\n",
    "    print(model_name, 'training started')\n",
    "    \n",
    "    # start time\n",
    "    start = time.time()\n",
    "    # fit the models on train dataset\n",
    "    model = model.fit(train)\n",
    "    # end time\n",
    "    end = time.time()\n",
    "     \n",
    "    # print training ended\n",
    "    print(model_name, 'training ended')\n",
    "    # print time taken\n",
    "    print('Time taken for {} is:'.format(model_name),(end-start),'seconds')\n",
    "    \n",
    "    # predict\n",
    "    print(model_name, 'predicting started')\n",
    "    predictions = model.transform(valid)\n",
    "    print(model_name, 'predicting ended')\n",
    "    \n",
    "    # get metrics to evaluate\n",
    "    # f1\n",
    "    print('F1 for {} is:'.format(model_name), evaluator.evaluate(predictions, {evaluator.metricName: \"f1\"}))\n",
    "    # accuracy\n",
    "    accuracy = predictions.filter(predictions.label == predictions.prediction).count() / (predictions.count())\n",
    "    print(\"The accuracy of the {} model is:\".format(model_name), accuracy)\n"
   ]
  },
  {
   "cell_type": "markdown",
   "metadata": {},
   "source": [
    "Random forest performed best in both F1 score and accuracy while the processing time was still fine. For the model tuning, we will therefore go with the random forest algorithm."
   ]
  },
  {
   "cell_type": "markdown",
   "metadata": {},
   "source": [
    "### Model Tuning for Best Model:\n",
    "The model can now be tuned using paramGridbuilder and CrossValidator. \n",
    "\n",
    "I am going to select <b>Random Forest</b> since this is the best compromise for F1 score, accuracy, and time to run. Random Forest had a F1 score of 0.86 and accuracy of 0.87 and took 3 min 44s."
   ]
  },
  {
   "cell_type": "code",
   "execution_count": 206,
   "metadata": {},
   "outputs": [
    {
     "name": "stdout",
     "output_type": "stream",
     "text": [
      "cacheNodeIds: If false, the algorithm will pass trees to executors to match instances with nodes. If true, the algorithm will cache node IDs for each instance. Caching can speed up training of deeper trees. Users can set how often should the cache be checkpointed or disable it by setting checkpointInterval. (default: False)\n",
      "checkpointInterval: set checkpoint interval (>= 1) or disable checkpoint (-1). E.g. 10 means that the cache will get checkpointed every 10 iterations. Note: this setting will be ignored if the checkpoint directory is not set in the SparkContext. (default: 10)\n",
      "featureSubsetStrategy: The number of features to consider for splits at each tree node. Supported options: 'auto' (choose automatically for task: If numTrees == 1, set to 'all'. If numTrees > 1 (forest), set to 'sqrt' for classification and to 'onethird' for regression), 'all' (use all features), 'onethird' (use 1/3 of the features), 'sqrt' (use sqrt(number of features)), 'log2' (use log2(number of features)), 'n' (when n is in the range (0, 1.0], use n * number of features. When n is in the range (1, number of features), use n features). default = 'auto' (default: auto)\n",
      "featuresCol: features column name. (default: features, current: features)\n",
      "impurity: Criterion used for information gain calculation (case-insensitive). Supported options: entropy, gini (default: gini)\n",
      "labelCol: label column name. (default: label, current: label)\n",
      "maxBins: Max number of bins for discretizing continuous features.  Must be >=2 and >= number of categories for any categorical feature. (default: 32)\n",
      "maxDepth: Maximum depth of the tree. (>= 0) E.g., depth 0 means 1 leaf node; depth 1 means 1 internal node + 2 leaf nodes. (default: 5)\n",
      "maxMemoryInMB: Maximum memory in MB allocated to histogram aggregation. If too small, then 1 node will be split per iteration, and its aggregates may exceed this size. (default: 256)\n",
      "minInfoGain: Minimum information gain for a split to be considered at a tree node. (default: 0.0)\n",
      "minInstancesPerNode: Minimum number of instances each child must have after split. If a split causes the left or right child to have fewer than minInstancesPerNode, the split will be discarded as invalid. Should be >= 1. (default: 1)\n",
      "numTrees: Number of trees to train (>= 1). (default: 20)\n",
      "predictionCol: prediction column name. (default: prediction)\n",
      "probabilityCol: Column name for predicted class conditional probabilities. Note: Not all models output well-calibrated probability estimates! These probabilities should be treated as confidences, not precise probabilities. (default: probability)\n",
      "rawPredictionCol: raw prediction (a.k.a. confidence) column name. (default: rawPrediction)\n",
      "seed: random seed. (default: 5895866480652243576, current: 1993)\n",
      "subsamplingRate: Fraction of the training data used for learning each decision tree, in range (0, 1]. (default: 1.0)\n"
     ]
    }
   ],
   "source": [
    "# Taking a look at the parameters that can be tuned\n",
    "print(rf.explainParams())"
   ]
  },
  {
   "cell_type": "markdown",
   "metadata": {},
   "source": [
    "#### Parameters\n",
    "Examining the parameters of the algorithm with `print(rf.explainParams())` three parameters stood out as potential improvements for our model: `NumTrees` and `Maxdepth`.<br>\n",
    "\n",
    "With CrossValidator the dataset is split into sets of folds which are then utilised as separate training and test sets. For instance using `k=3` folds, the CrossValidator creates three (training, test) dataset pairs. Each pair uses 2/3 of the data for training and the remaining 1/3 for testing. In order to evaluate particular parameter maps, the average evaluation metric for the three models is computed by fitting the estimator on the three folds / different training/ test dataset pairs. In our cross validation we will be working with 5 folds to improve the significance of our results.\n",
    "\n",
    "\n",
    "Sources:<br>\n",
    "[ML Tuning w/ Spark](https://spark.apache.org/docs/latest/ml-tuning.html)\n"
   ]
  },
  {
   "cell_type": "code",
   "execution_count": 240,
   "metadata": {},
   "outputs": [],
   "source": [
    "paramGrid = ParamGridBuilder() \\\n",
    "    .addGrid(rf.numTrees,[20, 40, 80]) \\\n",
    "    .addGrid(rf.maxDepth,[5, 10, 20]) \\\n",
    "    .build()\n",
    "\n",
    "\n",
    "cv = CrossValidator(estimator=rf,\n",
    "                        estimatorParamMaps=paramGrid,\n",
    "                        evaluator=MulticlassClassificationEvaluator(metricName = \"f1\"),\n",
    "                        numFolds=5,\n",
    "                        seed=1993)"
   ]
  },
  {
   "cell_type": "code",
   "execution_count": 242,
   "metadata": {},
   "outputs": [
    {
     "name": "stdout",
     "output_type": "stream",
     "text": [
      "CPU times: user 26.4 s, sys: 7.03 s, total: 33.4 s\n",
      "Wall time: 1h 9min 5s\n"
     ]
    }
   ],
   "source": [
    "%%time\n",
    "cvModel = cv.fit(train)"
   ]
  },
  {
   "cell_type": "code",
   "execution_count": 243,
   "metadata": {},
   "outputs": [
    {
     "data": {
      "text/plain": [
       "[0.7720588950718884,\n",
       " 0.7822378718302632,\n",
       " 0.7822378718302632,\n",
       " 0.7895213723709369,\n",
       " 0.8258192074809722,\n",
       " 0.8258192074809722,\n",
       " 0.8070312393722958,\n",
       " 0.816574058860243,\n",
       " 0.816574058860243]"
      ]
     },
     "execution_count": 243,
     "metadata": {},
     "output_type": "execute_result"
    }
   ],
   "source": [
    "cvModel.avgMetrics"
   ]
  },
  {
   "cell_type": "markdown",
   "metadata": {},
   "source": [
    "#### Results for the Best Model Performance :\n",
    "Final results for the random forest model:"
   ]
  },
  {
   "cell_type": "code",
   "execution_count": 244,
   "metadata": {},
   "outputs": [],
   "source": [
    "results = cvModel.transform(valid)"
   ]
  },
  {
   "cell_type": "code",
   "execution_count": 245,
   "metadata": {},
   "outputs": [
    {
     "name": "stdout",
     "output_type": "stream",
     "text": [
      "0.8947368421052632\n"
     ]
    }
   ],
   "source": [
    "accuracy = results.filter(results.label == results.prediction).count() / (results.count())\n",
    "print(accuracy)"
   ]
  },
  {
   "cell_type": "code",
   "execution_count": 246,
   "metadata": {},
   "outputs": [],
   "source": [
    "best_model = cvModel.bestModel"
   ]
  },
  {
   "cell_type": "code",
   "execution_count": 247,
   "metadata": {
    "scrolled": true
   },
   "outputs": [
    {
     "name": "stdout",
     "output_type": "stream",
     "text": [
      "Best Param (numTrees):  40\n",
      "Best Param (MaxDepth):  10\n"
     ]
    }
   ],
   "source": [
    "print (\"Best Param (numTrees): \", best_model._java_obj.getNumTrees())\n",
    "print (\"Best Param (MaxDepth): \", best_model._java_obj.getMaxDepth())"
   ]
  },
  {
   "cell_type": "code",
   "execution_count": 248,
   "metadata": {},
   "outputs": [
    {
     "name": "stdout",
     "output_type": "stream",
     "text": [
      "F1 for our best model is: 0.8858054226475279\n"
     ]
    }
   ],
   "source": [
    "print('F1 for our best model is:', evaluator.evaluate(results, {evaluator.metricName: \"f1\"}))"
   ]
  },
  {
   "cell_type": "code",
   "execution_count": 249,
   "metadata": {},
   "outputs": [
    {
     "name": "stdout",
     "output_type": "stream",
     "text": [
      "Accuracy for our best model is: 0.8947368421052632\n"
     ]
    }
   ],
   "source": [
    "print('Accuracy for our best model is:', evaluator.evaluate(results, {evaluator.metricName: \"accuracy\"}))"
   ]
  },
  {
   "cell_type": "markdown",
   "metadata": {},
   "source": [
    "Here our random forest model achieved an F1 of 0.89 and an accuracy of 0.89. Accuracy stands for the number of correctly predicted data points from the total predictions. This means that for an accuracy of 0.89 / 89% we get 89 correct predictions out of 100 total predictions.\n",
    "\n",
    "The sum of true positives (TP) and true negatives (TN) divided by the sum of TP, TN, false positives (FP) and false negatives (FN) yields the accuracy.\n",
    "\n",
    "F1 is a measure of the model's accuracy on a dataset and is used to evaluate binary classification systems. F1-score is a way of combining the precision and recall of the model and gives a better measure of the incorrectly classified cases than accuracy metric. Moreover, F1 is also better for working with imbalanced data such as the data used in our example.\n",
    "\n",
    "Sources:<br>\n",
    "[Accuracy vs. F1-Score](https://medium.com/analytics-vidhya/accuracy-vs-f1-score-6258237beca2)\n",
    "\n",
    "\n",
    "<b>Feature Importance:</b><br>\n",
    "Finally, let's check the feature importance for our best model and plot this in a chart."
   ]
  },
  {
   "cell_type": "code",
   "execution_count": 250,
   "metadata": {},
   "outputs": [],
   "source": [
    "importances = best_model.featureImportances"
   ]
  },
  {
   "cell_type": "code",
   "execution_count": 251,
   "metadata": {},
   "outputs": [],
   "source": [
    "x_values = list(range(len(importances)))"
   ]
  },
  {
   "cell_type": "code",
   "execution_count": 252,
   "metadata": {},
   "outputs": [],
   "source": [
    "feature_list = list([\"gender\", \"level\", \"avg_song\", \"roll_ad\", \"thumbs_down\", \"thumbs_up\", \"add_friend\", \"playlist\", \"num_artists\", \"days\"])"
   ]
  },
  {
   "cell_type": "code",
   "execution_count": 253,
   "metadata": {},
   "outputs": [
    {
     "data": {
      "image/png": "[encoded data removed]",
      "text/plain": [
       "<matplotlib.figure.Figure at 0x7fdeb732fbe0>"
      ]
     },
     "metadata": {},
     "output_type": "display_data"
    }
   ],
   "source": [
    "plt.figure(figsize=[8,6])\n",
    "plt.bar(x_values, importances, orientation = 'vertical')\n",
    "plt.xticks(x_values, feature_list, rotation=40)\n",
    "plt.ylabel('Importance')\n",
    "plt.xlabel('Feature')\n",
    "plt.title('Feature Importances');"
   ]
  },
  {
   "cell_type": "markdown",
   "metadata": {},
   "source": [
    "Taking a look at the feature importance, we can see that the most important feature of our best model was the `days` since registration. The second most important feature were the `thumbs down` actions. The third most important feature were the number of songs added to `playlists`. The three least important features in our best model were the subscription `level`, `gender` and the `roll ad` action."
   ]
  },
  {
   "cell_type": "markdown",
   "metadata": {},
   "source": [
    "# <a class=\"anchor\" id=\"Conclusions\">Conclusions</a>\n",
    "<sub>*[(Back to Table of Contents)](#Table-of-Contents)*</sub>\n",
    "\n",
    "The 128 MB dataset used for our exploration had 225 unique users. After initial data cleaning, the data was explored for useful features for churn prediction. The most promising features were selected and preprocessed so that they could be used with different machine learning algorithms. Random Forest and Logistic Regression performed best. Since the performance on the small dataset was good with Random Forest whilst also providing the best overall results, the model tuning was conducted for Random Forest. After tuning the best model achieved an accuracy and F1 score of 0.89.\n",
    "\n",
    "**Impact on the Business:**<br>\n",
    "The model can now be used by Sparkify to target customers better. That means they could either try to provide incentives for potentially churning customers to stay or attract new customers with the features that seem to be most attractive. Both, the company and the customer would benefit from that. For instance, since we found out that paid users are more likely to stay, we could offer a free trial to get customers hooked to the benefits of the paid application version. \n",
    "\n",
    "**Reflecting on the Project:**<br>\n",
    "This project consolidated all of the things I learned in the course up until now. Dataset manipulation, building macine learning models for predictions and putting it all together in a compelling format to share with the world. Also, with the results of the machine learning algorithms, I think, I can be really happy given my limited experiences.\n",
    "\n",
    "**Future Improvements:**\n",
    "\n",
    "- Further exploration of the best features to improve the model performance\n",
    "- Explore the impact of different train, test, validation splits\n",
    "- Analysing false positives and vice versa\n"
   ]
  }
 ],
 "metadata": {
  "kernelspec": {
   "display_name": "Python 3",
   "language": "python",
   "name": "python3"
  },
  "language_info": {
   "codemirror_mode": {
    "name": "ipython",
    "version": 3
   },
   "file_extension": ".py",
   "mimetype": "text/x-python",
   "name": "python",
   "nbconvert_exporter": "python",
   "pygments_lexer": "ipython3",
   "version": "3.6.3"
  }
 },
 "nbformat": 4,
 "nbformat_minor": 2
}
